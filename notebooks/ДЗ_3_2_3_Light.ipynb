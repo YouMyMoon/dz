{
  "cells": [
    {
      "cell_type": "markdown",
      "metadata": {
        "id": "MH-3kVwvJYeP"
      },
      "source": [
        "\n",
        "# 3.2.3 Уход от циклов: обработка данных с применением массивов"
      ]
    },
    {
      "cell_type": "markdown",
      "metadata": {
        "id": "gMwyKhlQJ1mf"
      },
      "source": [
        "## Задание 1"
      ]
    },
    {
      "cell_type": "markdown",
      "metadata": {
        "id": "Owu684lKKrjJ"
      },
      "source": [
        "**Условие:**\n",
        "Создайте случайный целочисленный массив ```ndarray``` из ```12``` элементов, принадлежащих отрезку ```[0,10]```. Сделайте две матрицы размера ```(3,4)``` с порядком следования элементов в стиле С и Fortran. Найдите поэлементное произведение этих матриц, а после - максимальный элемент в полученной матрице. Используйте ```np.random.seed(1000)``` перед генерацией массива для воспроизводимости результатов.\n",
        "\n",
        "**Формат ответа:**\n",
        "Число (например, ```25```)\n",
        "\n"
      ]
    },
    {
      "cell_type": "markdown",
      "metadata": {
        "id": "OCTvo3fHLaaJ"
      },
      "source": [
        "**Решение:**"
      ]
    },
    {
      "cell_type": "code",
      "execution_count": null,
      "metadata": {
        "colab": {
          "base_uri": "https://localhost:8080/"
        },
        "id": "f9_8IGndLeRO",
        "outputId": "c9aaea0f-9833-4f4f-d137-34ffd59787be"
      },
      "outputs": [
        {
          "output_type": "stream",
          "name": "stdout",
          "text": [
            "Массив:\n",
            "[ 3  7  7  0  1  0  9  8  9  4 10 10]\n",
            "\n",
            "Матрица в стиле C:\n",
            "[[ 3  7  7  0]\n",
            " [ 1  0  9  8]\n",
            " [ 9  4 10 10]]\n",
            "\n",
            "Матрица в стиле Fortran:\n",
            "[[ 3  0  9  4]\n",
            " [ 7  1  8 10]\n",
            " [ 7  0  9 10]]\n",
            "\n",
            "Матрица с поэлементным произведением:\n",
            "[[  9   0  63   0]\n",
            " [  7   0  72  80]\n",
            " [ 63   0  90 100]]\n",
            "\n",
            "Максимальный элемент в полученной матрице: 100\n"
          ]
        }
      ],
      "source": [
        "import numpy as np\n",
        "\n",
        "# Установка seed для воспроизводимости результатов\n",
        "np.random.seed(1000)\n",
        "\n",
        "# Создание случайного целочисленного массива ndarray из 12 элементов на отрезке [0,10]\n",
        "array = np.random.randint(0, 11, size=12)\n",
        "\n",
        "# Вывод созданного массива\n",
        "print(\"Массив:\")\n",
        "print(array)\n",
        "\n",
        "# Создание матрицы размера (3,4) в стиле C\n",
        "matrix_c = array.reshape((3, 4), order='C')\n",
        "\n",
        "# Вывод матрицы в стиле C\n",
        "print(\"\\nМатрица в стиле C:\")\n",
        "print(matrix_c)\n",
        "\n",
        "# Создание матрицы размера (3,4) в стиле Fortran\n",
        "matrix_f = array.reshape((3, 4), order='F')\n",
        "\n",
        "# Вывод матрицы в стиле Fortran\n",
        "print(\"\\nМатрица в стиле Fortran:\")\n",
        "print(matrix_f)\n",
        "\n",
        "# Поэлементное произведение матриц\n",
        "elementwise_product = np.multiply(matrix_c, matrix_f)\n",
        "\n",
        "# Вывод матрицы с поэлементным произведением\n",
        "print(\"\\nМатрица с поэлементным произведением:\")\n",
        "print(elementwise_product)\n",
        "\n",
        "# Нахождение максимального элемента в полученной матрице\n",
        "max_element = np.max(elementwise_product)\n",
        "\n",
        "# Вывод максимального элемента\n",
        "print(\"\\nМаксимальный элемент в полученной матрице:\", max_element)\n"
      ]
    },
    {
      "cell_type": "markdown",
      "metadata": {
        "id": "g5S0h2-wKfGE"
      },
      "source": [
        "## Задание 2"
      ]
    },
    {
      "cell_type": "markdown",
      "metadata": {
        "id": "orX7BUzcPKKf"
      },
      "source": [
        "**Условие:**\n",
        "Создайте ```3``` случайных целочисленных массива ```ndarray``` размера ```(10,10)``` элементов, принадлежащих отрезку ```[0,10]```. Сделайте из данных массивов один трехмерный массив. Найдя размер полученного массива, вычислите количество элементов в нем. Используйте ```np.random.seed(1000)``` перед генерацией массива для воспроизводимости результатов.\n",
        "\n",
        "**Формат ответа:**\n",
        "Число (например, ```56```)\n"
      ]
    },
    {
      "cell_type": "markdown",
      "metadata": {
        "id": "ESSLfwqEPKKn"
      },
      "source": [
        "**Решение:**"
      ]
    },
    {
      "cell_type": "code",
      "execution_count": null,
      "metadata": {
        "colab": {
          "base_uri": "https://localhost:8080/"
        },
        "id": "y8HOlaNLPKKq",
        "outputId": "435b9a2e-9b1d-47d4-b151-a634fc54d3f6"
      },
      "outputs": [
        {
          "output_type": "stream",
          "name": "stdout",
          "text": [
            "Размер трехмерного массива: (3, 10, 10)\n",
            "Количество элементов в трехмерном массиве: 300\n"
          ]
        }
      ],
      "source": [
        "import numpy as np\n",
        "\n",
        "# Установка seed для воспроизводимости результатов\n",
        "np.random.seed(1000)\n",
        "\n",
        "# Создание трех случайных целочисленных массивов ndarray размера (10,10) элементов на отрезке [0,10]\n",
        "array1 = np.random.randint(0, 11, size=(10, 10))\n",
        "array2 = np.random.randint(0, 11, size=(10, 10))\n",
        "array3 = np.random.randint(0, 11, size=(10, 10))\n",
        "\n",
        "# Объединение массивов в трехмерный массив\n",
        "three_dimensional_array = np.array([array1, array2, array3])\n",
        "\n",
        "# Вывод размера полученного трехмерного массива\n",
        "print(\"Размер трехмерного массива:\", three_dimensional_array.shape)\n",
        "\n",
        "# Вычисление количества элементов в трехмерном массиве\n",
        "total_elements = three_dimensional_array.size\n",
        "\n",
        "# Вывод количества элементов в трехмерном массиве\n",
        "print(\"Количество элементов в трехмерном массиве:\", total_elements)\n"
      ]
    },
    {
      "cell_type": "markdown",
      "metadata": {
        "id": "tq0Fcrg1KfXQ"
      },
      "source": [
        "## Задание 3"
      ]
    },
    {
      "cell_type": "markdown",
      "metadata": {
        "id": "3xp-jyyHPMIb"
      },
      "source": [
        "**Условие:**\n",
        "С использование методов ```ndarray``` сформируйте массив размера ```(20,2)```, в первом столбце которого идут целые числа, начиная с ```1```,а во втором - первые 20 нечетных чисел, начиная с ```3```. Найдите среднее значение второго столбца.\n",
        "\n",
        "**Формат ответа:**\n",
        "Число (например, ```34```)\n",
        "\n"
      ]
    },
    {
      "cell_type": "markdown",
      "metadata": {
        "id": "H5ZlBsI2PMIi"
      },
      "source": [
        "**Решение:**"
      ]
    },
    {
      "cell_type": "code",
      "execution_count": null,
      "metadata": {
        "colab": {
          "base_uri": "https://localhost:8080/"
        },
        "id": "6amsYUCoPMIn",
        "outputId": "be23ab42-2580-4289-9ff0-fba7a541602c"
      },
      "outputs": [
        {
          "output_type": "stream",
          "name": "stdout",
          "text": [
            "Массив:\n",
            "[[ 1  3]\n",
            " [ 2  5]\n",
            " [ 3  7]\n",
            " [ 4  9]\n",
            " [ 5 11]\n",
            " [ 6 13]\n",
            " [ 7 15]\n",
            " [ 8 17]\n",
            " [ 9 19]\n",
            " [10 21]\n",
            " [11 23]\n",
            " [12 25]\n",
            " [13 27]\n",
            " [14 29]\n",
            " [15 31]\n",
            " [16 33]\n",
            " [17 35]\n",
            " [18 37]\n",
            " [19 39]\n",
            " [20 41]]\n",
            "\n",
            "Среднее значение второго столбца: 22.0\n"
          ]
        }
      ],
      "source": [
        "import numpy as np\n",
        "\n",
        "# Создаем массив размера (20, 2)\n",
        "array = np.zeros((20, 2), dtype=int)\n",
        "\n",
        "# Заполняем первый столбец числами от 1 до 20\n",
        "array[:, 0] = np.arange(1, 21)\n",
        "\n",
        "# Заполняем второй столбец первыми 20 нечетными числами, начиная с 3 (арифметическая прогрессия)\n",
        "array[:, 1] = 2 * np.arange(1, 21) + 1\n",
        "\n",
        "# Находим среднее значение второго столбца\n",
        "mean_second_column = np.mean(array[:, 1])\n",
        "\n",
        "# Выводим массив и среднее значение второго столбца\n",
        "print(\"Массив:\")\n",
        "print(array)\n",
        "print(\"\\nСреднее значение второго столбца:\", mean_second_column)\n",
        "\n"
      ]
    }
  ],
  "metadata": {
    "colab": {
      "provenance": []
    },
    "kernelspec": {
      "display_name": "Python 3 (ipykernel)",
      "language": "python",
      "name": "python3"
    },
    "language_info": {
      "codemirror_mode": {
        "name": "ipython",
        "version": 3
      },
      "file_extension": ".py",
      "mimetype": "text/x-python",
      "name": "python",
      "nbconvert_exporter": "python",
      "pygments_lexer": "ipython3",
      "version": "3.11.7"
    }
  },
  "nbformat": 4,
  "nbformat_minor": 0
}