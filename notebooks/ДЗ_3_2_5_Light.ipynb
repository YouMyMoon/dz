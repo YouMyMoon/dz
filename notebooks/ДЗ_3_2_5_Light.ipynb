{
  "cells": [
    {
      "cell_type": "markdown",
      "metadata": {
        "id": "MH-3kVwvJYeP"
      },
      "source": [
        "\n",
        "# 3.2.5 Файловый ввод-вывод массивов"
      ]
    },
    {
      "cell_type": "markdown",
      "metadata": {
        "id": "gMwyKhlQJ1mf"
      },
      "source": [
        "## Задание 1"
      ]
    },
    {
      "cell_type": "markdown",
      "metadata": {
        "id": "Owu684lKKrjJ"
      },
      "source": [
        "**Условие:**\n",
        "Создайте массив ```ndarray``` размера ```(20,20)``` элементов, взятых из равномерного распределения на полуинтервале ```[0,1)```. Запишите данный массив в файл в бинарном и текстовом виде. Найдите абсолютное значение разности байтовых размеров полученных файлов. Используйте ```np.random.seed(1000)``` перед генерацией массива для воспроизводимости результатов.\n",
        "\n",
        "**Формат ответа:**\n",
        "Число (например, ```100```)\n",
        "\n"
      ]
    },
    {
      "cell_type": "markdown",
      "metadata": {
        "id": "OCTvo3fHLaaJ"
      },
      "source": [
        "**Решение:**"
      ]
    },
    {
      "cell_type": "code",
      "execution_count": null,
      "metadata": {
        "colab": {
          "base_uri": "https://localhost:8080/"
        },
        "id": "f9_8IGndLeRO",
        "outputId": "7476284a-105f-4072-87a2-c6d27b8dff5a"
      },
      "outputs": [
        {
          "output_type": "stream",
          "name": "stdout",
          "text": [
            "Байтовый размер бинарного файла: 2.0\n",
            "Байтовый размер текстового файла: 402.0\n",
            "Абсолютное значение разности байтовых размеров: 400.0\n"
          ]
        }
      ],
      "source": [
        "import numpy as np\n",
        "\n",
        "# Установка seed для воспроизводимости результатов\n",
        "np.random.seed(1000)\n",
        "\n",
        "# Создание массива ndarray размера (20,20) элементов из равномерного распределения на полуинтервале [0,1)\n",
        "array = np.random.uniform(low=0, high=1, size=(20, 20))\n",
        "\n",
        "# Запись массива в бинарный файл\n",
        "with open(\"array_binary.bin\", \"wb\") as f:\n",
        "    array.tofile(f)\n",
        "\n",
        "# Запись массива в текстовый файл\n",
        "np.savetxt(\"array_text.txt\", array)\n",
        "\n",
        "# Получение размеров файлов\n",
        "binary_size = np.round(np.ceil(np.log2(array.size * array.itemsize) / 8), 2)\n",
        "text_size = np.round(np.ceil(np.log2(array.size * array.itemsize) / 8) + array.size, 2)\n",
        "\n",
        "# Вычисление абсолютного значения разности байтовых размеров файлов\n",
        "absolute_difference = np.abs(binary_size - text_size)\n",
        "\n",
        "print(\"Байтовый размер бинарного файла:\", binary_size)\n",
        "print(\"Байтовый размер текстового файла:\", text_size)\n",
        "print(\"Абсолютное значение разности байтовых размеров:\", absolute_difference)\n"
      ]
    },
    {
      "cell_type": "markdown",
      "metadata": {
        "id": "g5S0h2-wKfGE"
      },
      "source": [
        "## Задание 2"
      ]
    },
    {
      "cell_type": "markdown",
      "metadata": {
        "id": "orX7BUzcPKKf"
      },
      "source": [
        "**Условие:**\n",
        "Создайте массив ```ndarray``` размера ```100``` из элементов, взятых из стандартного нормального распределения. Запишите данный массив в файл в бинарном виде. Считайте массив из файла, с использованием целочисленного типа данных. Найдите абсолютное значение разности сумм элементов исходного массива и считанного из файла. Используйте ```np.random.seed(1000)``` перед генерацией массива для воспроизводимости результатов.\n",
        "\n",
        "**Формат ответа:**\n",
        "Число (например, ```102.4```)\n",
        "\n"
      ]
    },
    {
      "cell_type": "markdown",
      "metadata": {
        "id": "ESSLfwqEPKKn"
      },
      "source": [
        "**Решение:**"
      ]
    },
    {
      "cell_type": "code",
      "execution_count": null,
      "metadata": {
        "colab": {
          "base_uri": "https://localhost:8080/"
        },
        "id": "y8HOlaNLPKKq",
        "outputId": "d21d924c-f18f-4872-94be-8de98285e014"
      },
      "outputs": [
        {
          "output_type": "stream",
          "name": "stdout",
          "text": [
            "Абсолютное значение разности сумм элементов исходного массива и считанного из файла: 2.693960566997837\n"
          ]
        }
      ],
      "source": [
        "import numpy as np\n",
        "\n",
        "# Установка seed для воспроизводимости результатов\n",
        "np.random.seed(1000)\n",
        "\n",
        "# Создание массива ndarray размера 100 из стандартного нормального распределения\n",
        "array = np.random.normal(loc=0, scale=1, size=100)\n",
        "\n",
        "# Запись массива в бинарный файл\n",
        "with open(\"array_binary.bin\", \"wb\") as f:\n",
        "    array.astype(np.int32).tofile(f)\n",
        "\n",
        "# Считывание массива из файла с использованием целочисленного типа данных\n",
        "read_array = np.fromfile(\"array_binary.bin\", dtype=np.int32)\n",
        "\n",
        "# Нахождение абсолютного значения разности сумм элементов исходного массива и считанного из файла\n",
        "absolute_difference = np.abs(np.sum(array) - np.sum(read_array))\n",
        "\n",
        "print(\"Абсолютное значение разности сумм элементов исходного массива и считанного из файла:\", absolute_difference)\n"
      ]
    },
    {
      "cell_type": "markdown",
      "metadata": {
        "id": "tq0Fcrg1KfXQ"
      },
      "source": [
        "## Задание 3"
      ]
    },
    {
      "cell_type": "markdown",
      "metadata": {
        "id": "3xp-jyyHPMIb"
      },
      "source": [
        "**Условие:**\n",
        "Напишите функцию, которая принимает на вход квадратную матрицу и находит ее определитель. Если определитель отличен от нуля, то функция возвращает определитель матрицы, которая является обратной к транспанированной исходной матрице, иначе выдает ноль. Проверьте работоспособность на матрице, указанной в пункте решение.\n",
        "\n",
        "**Формат ответа:**\n",
        "Число (например, ```2.7```)\n",
        "\n"
      ]
    },
    {
      "cell_type": "markdown",
      "metadata": {
        "id": "H5ZlBsI2PMIi"
      },
      "source": [
        "**Решение:**"
      ]
    },
    {
      "cell_type": "code",
      "execution_count": null,
      "metadata": {
        "colab": {
          "base_uri": "https://localhost:8080/"
        },
        "id": "6amsYUCoPMIn",
        "outputId": "f002227b-5cfd-4e2f-a10b-857f7531b891"
      },
      "outputs": [
        {
          "output_type": "stream",
          "name": "stdout",
          "text": [
            "Определитель матрицы: 25.000000000000007\n",
            "Обратная матрица к транспонированной исходной матрице:\n",
            "[[ 0.04  0.28 -0.2 ]\n",
            " [-0.28  0.04  0.4 ]\n",
            " [ 0.4  -0.2   0.  ]]\n"
          ]
        }
      ],
      "source": [
        "import numpy as np\n",
        "\n",
        "def determinant_and_inverse_transpose(matrix):\n",
        "    # Находим определитель исходной матрицы\n",
        "    det = np.linalg.det(matrix)\n",
        "\n",
        "    # Если определитель не равен нулю\n",
        "    if det != 0:\n",
        "        # Находим обратную матрицу к транспонированной исходной матрице\n",
        "        inverse_matrix = np.linalg.inv(matrix.T)\n",
        "        return det, inverse_matrix\n",
        "    else:\n",
        "        return 0\n",
        "\n",
        "# Пример матрицы из пункта \"решение\"\n",
        "example_matrix = np.array([[2, 4, 1],\n",
        "                           [1, 2, 3],\n",
        "                           [3, 1, 2]])\n",
        "\n",
        "# Вызов функции для проверки на примере матрицы\n",
        "determinant, inverse_matrix = determinant_and_inverse_transpose(example_matrix)\n",
        "\n",
        "# Вывод результата\n",
        "print(\"Определитель матрицы:\", determinant)\n",
        "if determinant != 0:\n",
        "    print(\"Обратная матрица к транспонированной исходной матрице:\")\n",
        "    print(inverse_matrix)\n",
        "else:\n",
        "    print(\"Определитель матрицы равен нулю, обратная матрица не существует.\")\n"
      ]
    },
    {
      "cell_type": "code",
      "execution_count": null,
      "metadata": {
        "id": "2IsoWN0glMYv"
      },
      "outputs": [],
      "source": []
    }
  ],
  "metadata": {
    "colab": {
      "provenance": []
    },
    "kernelspec": {
      "display_name": "Python 3 (ipykernel)",
      "language": "python",
      "name": "python3"
    },
    "language_info": {
      "codemirror_mode": {
        "name": "ipython",
        "version": 3
      },
      "file_extension": ".py",
      "mimetype": "text/x-python",
      "name": "python",
      "nbconvert_exporter": "python",
      "pygments_lexer": "ipython3",
      "version": "3.11.7"
    }
  },
  "nbformat": 4,
  "nbformat_minor": 0
}