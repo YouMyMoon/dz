{
  "cells": [
    {
      "cell_type": "markdown",
      "metadata": {
        "id": "MH-3kVwvJYeP"
      },
      "source": [
        "# 2.9.4 Форматы файлов, кодировки и сохранение данных. Работа с файлами и каталогами"
      ]
    },
    {
      "cell_type": "markdown",
      "metadata": {
        "id": "gMwyKhlQJ1mf"
      },
      "source": [
        "## Задание 1"
      ]
    },
    {
      "cell_type": "markdown",
      "metadata": {
        "id": "Owu684lKKrjJ"
      },
      "source": [
        "**Условие:**\n",
        "Напишите собственный класс с несколькими атрибутами данных, создайте его экземпляр и запишите данный экземпляр класса в файл с использованием библиотеки ```pickle```. Считайте экземпляр из файла и проверьте его атрибуты.\n",
        "\n"
      ]
    },
    {
      "cell_type": "markdown",
      "metadata": {
        "id": "OCTvo3fHLaaJ"
      },
      "source": [
        "**Решение:**"
      ]
    },
    {
      "cell_type": "code",
      "execution_count": null,
      "metadata": {
        "colab": {
          "base_uri": "https://localhost:8080/"
        },
        "id": "f9_8IGndLeRO",
        "outputId": "ab377d6c-7ad0-4e4f-bf14-b3f71eccb63f"
      },
      "outputs": [
        {
          "output_type": "stream",
          "name": "stdout",
          "text": [
            "Name: John\n",
            "Age: 30\n",
            "Country: USA\n"
          ]
        }
      ],
      "source": [
        "import pickle\n",
        "\n",
        "# Определение класса\n",
        "class Person:\n",
        "    def __init__(self, name, age, country):\n",
        "        self.name = name\n",
        "        self.age = age\n",
        "        self.country = country\n",
        "\n",
        "# Создание экземпляра класса\n",
        "person_instance = Person(\"John\", 30, \"USA\")\n",
        "\n",
        "# Сохранение экземпляра класса в файл с использованием pickle\n",
        "with open('person.pickle', 'wb') as file:\n",
        "    pickle.dump(person_instance, file)\n",
        "\n",
        "# Чтение экземпляра класса из файла\n",
        "with open('person.pickle', 'rb') as file:\n",
        "    loaded_person_instance = pickle.load(file)\n",
        "\n",
        "# Проверка атрибутов экземпляра класса, считанного из файла\n",
        "print(\"Name:\", loaded_person_instance.name)\n",
        "print(\"Age:\", loaded_person_instance.age)\n",
        "print(\"Country:\", loaded_person_instance.country)\n"
      ]
    },
    {
      "cell_type": "markdown",
      "metadata": {
        "id": "g5S0h2-wKfGE"
      },
      "source": [
        "## Задание 2"
      ]
    },
    {
      "cell_type": "markdown",
      "metadata": {
        "id": "orX7BUzcPKKf"
      },
      "source": [
        "**Условие:**\n",
        "\n",
        "Методами модуля ```os``` cоставить статистику размера файлов ```*.csv``` папки ```sample_data``` из Google Colab. Составить словарь\n",
        "\n",
        "```\n",
        "size_dict = {'filename.csv':filename_size}\n",
        "```\n",
        "\n",
        "\n",
        "*   ```filename.csv``` - имя файла\n",
        "*   ```filename_size``` - размер файла\n",
        "\n",
        "\n"
      ]
    },
    {
      "cell_type": "markdown",
      "metadata": {
        "id": "ESSLfwqEPKKn"
      },
      "source": [
        "**Решение:**"
      ]
    },
    {
      "cell_type": "code",
      "execution_count": null,
      "metadata": {
        "colab": {
          "base_uri": "https://localhost:8080/"
        },
        "id": "y8HOlaNLPKKq",
        "outputId": "34f3fc68-5383-4dff-8975-95ba3fc3eb41"
      },
      "outputs": [
        {
          "output_type": "stream",
          "name": "stdout",
          "text": [
            "{'mnist_train_small.csv': 36523880, 'california_housing_train.csv': 1706430, 'mnist_test.csv': 18289443, 'california_housing_test.csv': 301141}\n"
          ]
        }
      ],
      "source": [
        "import os\n",
        "\n",
        "# Указываем путь к папке sample_data\n",
        "folder_path = '/content/sample_data'\n",
        "\n",
        "# Получаем список файлов в папке sample_data\n",
        "file_list = os.listdir(folder_path)\n",
        "\n",
        "# Создаем пустой словарь для хранения статистики размера файлов\n",
        "size_dict = {}\n",
        "\n",
        "# Обходим список файлов\n",
        "for filename in file_list:\n",
        "    # Проверяем, что файл имеет расширение .csv\n",
        "    if filename.endswith('.csv'):\n",
        "        # Получаем путь к файлу\n",
        "        file_path = os.path.join(folder_path, filename)\n",
        "        # Получаем размер файла в байтах\n",
        "        file_size = os.path.getsize(file_path)\n",
        "        # Добавляем информацию о файле в словарь\n",
        "        size_dict[filename] = file_size\n",
        "\n",
        "print(size_dict)\n"
      ]
    }
  ],
  "metadata": {
    "colab": {
      "provenance": []
    },
    "kernelspec": {
      "display_name": "Python 3 (ipykernel)",
      "language": "python",
      "name": "python3"
    },
    "language_info": {
      "codemirror_mode": {
        "name": "ipython",
        "version": 3
      },
      "file_extension": ".py",
      "mimetype": "text/x-python",
      "name": "python",
      "nbconvert_exporter": "python",
      "pygments_lexer": "ipython3",
      "version": "3.11.7"
    }
  },
  "nbformat": 4,
  "nbformat_minor": 0
}