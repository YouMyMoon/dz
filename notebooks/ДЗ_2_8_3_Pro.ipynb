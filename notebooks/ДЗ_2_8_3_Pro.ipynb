{
  "cells": [
    {
      "cell_type": "markdown",
      "metadata": {
        "id": "MH-3kVwvJYeP"
      },
      "source": [
        "# 2.8.3 Объектно-ориентированное программирование как ключевой элемент языка Python"
      ]
    },
    {
      "cell_type": "markdown",
      "metadata": {
        "id": "WS0TXJkOD_Q6"
      },
      "source": [
        "## Задание 1"
      ]
    },
    {
      "cell_type": "markdown",
      "metadata": {
        "id": "vnaW1OUnD_RA"
      },
      "source": [
        "**Условие:** Для класса ```Department``` из задания к занятию 2.8.2 установите все родительские классы. Установите к каким классам относятся атрибуты данных и методы указанного класса.\n"
      ]
    },
    {
      "cell_type": "markdown",
      "metadata": {
        "id": "fgXudiR7D_RC"
      },
      "source": [
        "**Решение:**"
      ]
    },
    {
      "cell_type": "code",
      "execution_count": null,
      "metadata": {
        "id": "d3EG8Yu9D_RF"
      },
      "outputs": [],
      "source": [
        "class Person:\n",
        "    def __init__(self, name, job, pai):\n",
        "        self.name = name\n",
        "        self.job = job\n",
        "        self.pai = pai\n",
        "\n",
        "    def person_raise(self, prcnt):\n",
        "        self.pai *= (1 + prcnt / 100)\n",
        "\n",
        "class Manager(Person):\n",
        "    def __init__(self, name, job, pai, client_counts):\n",
        "        super().__init__(name, job, pai)\n",
        "        self.client_counts = client_counts\n",
        "\n",
        "    def manager_raise(self):\n",
        "        self.client_counts += 1\n",
        "        self.person_raise(1)\n",
        "\n",
        "class Department:\n",
        "    def __init__(self, name, chief, person_list):\n",
        "        self.name = name\n",
        "        self.chief = chief\n",
        "        self.person_list = person_list\n",
        "\n",
        "    def xristmas_tree(self):\n",
        "        rewarded_count = 0\n",
        "        for _ in range(20):\n",
        "            selected_persons = random.sample(self.person_list, 3)\n",
        "            for person in selected_persons:\n",
        "                person.person_raise(30)\n",
        "                rewarded_count += 1\n",
        "        return rewarded_count\n",
        "\n",
        "parent_classes = Department.__bases__\n",
        "person_attributes = [attr for attr in dir(Person) if not callable(getattr(Person, attr))]\n",
        "person_methods = [attr for attr in dir(Person) if callable(getattr(Person, attr))]\n",
        "manager_attributes = [attr for attr in dir(Manager) if not callable(getattr(Manager, attr))]\n",
        "manager_methods = [attr for attr in dir(Manager) if callable(getattr(Manager, attr))]\n",
        "department_attributes = [attr for attr in dir(Department) if not callable(getattr(Department, attr))]\n",
        "department_methods = [attr for attr in dir(Department) if callable(getattr(Department, attr))]\n",
        "\n",
        "print(\"Родительские классы для Department:\", parent_classes)\n",
        "print(\"Атрибуты данных и методы для класса Person:\", person_attributes, person_methods)\n",
        "print(\"Атрибуты данных и методы для класса Manager:\", manager_attributes, manager_methods)\n",
        "print(\"Атрибуты данных и методы для класса Department:\", department_attributes, department_methods)\n"
      ]
    }
  ],
  "metadata": {
    "colab": {
      "provenance": []
    },
    "kernelspec": {
      "display_name": "Python 3 (ipykernel)",
      "language": "python",
      "name": "python3"
    },
    "language_info": {
      "codemirror_mode": {
        "name": "ipython",
        "version": 3
      },
      "file_extension": ".py",
      "mimetype": "text/x-python",
      "name": "python",
      "nbconvert_exporter": "python",
      "pygments_lexer": "ipython3",
      "version": "3.11.7"
    }
  },
  "nbformat": 4,
  "nbformat_minor": 0
}