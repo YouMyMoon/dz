{
  "cells": [
    {
      "cell_type": "markdown",
      "metadata": {
        "id": "MH-3kVwvJYeP"
      },
      "source": [
        "\n",
        "# 2.9.1 Математические вычисления и числа, типы коллекций"
      ]
    },
    {
      "cell_type": "markdown",
      "metadata": {
        "id": "gMwyKhlQJ1mf"
      },
      "source": [
        "## Задание 1"
      ]
    },
    {
      "cell_type": "markdown",
      "metadata": {
        "id": "Owu684lKKrjJ"
      },
      "source": [
        "**Условие:**\n",
        "\n",
        "Напишите функцию, которая случайно переставляет буквы во введенном слове.\n"
      ]
    },
    {
      "cell_type": "markdown",
      "metadata": {
        "id": "_TuxJ4KMQTMK"
      },
      "source": [
        "**Решение:**"
      ]
    },
    {
      "cell_type": "code",
      "execution_count": null,
      "metadata": {
        "colab": {
          "base_uri": "https://localhost:8080/"
        },
        "id": "c1NYCrtnQTML",
        "outputId": "e010fc37-c2b6-4ddb-b625-886ef1c967b3"
      },
      "outputs": [
        {
          "output_type": "stream",
          "name": "stdout",
          "text": [
            "Введите слово для перестановки: trtjgd\n",
            "Переставленное слово: ttrdjg\n"
          ]
        }
      ],
      "source": [
        "import random\n",
        "\n",
        "def shuffle_letters(word):\n",
        "    letters = list(word)\n",
        "    random.shuffle(letters)\n",
        "    shuffled_word = ''.join(letters)\n",
        "    return shuffled_word\n",
        "\n",
        "word = input(\"Введите слово для перестановки: \")\n",
        "shuffled_word = shuffle_letters(word)\n",
        "print(\"Переставленное слово:\", shuffled_word)\n"
      ]
    },
    {
      "cell_type": "markdown",
      "metadata": {
        "id": "g5S0h2-wKfGE"
      },
      "source": [
        "## Задание 2"
      ]
    },
    {
      "cell_type": "markdown",
      "metadata": {
        "id": "orX7BUzcPKKf"
      },
      "source": [
        "**Условие:**\n",
        "Используя методы модуля ```math```, найти значения $e^{\\pi}$ и $\\pi^{e}$. В случае, если первое выражение больше,то в ответе укажите 1, иначе - 0.\n",
        "\n",
        "**Формат ответа:**\n",
        "Число (например, ```1```)"
      ]
    },
    {
      "cell_type": "markdown",
      "metadata": {
        "id": "ESSLfwqEPKKn"
      },
      "source": [
        "**Решение:**"
      ]
    },
    {
      "cell_type": "code",
      "execution_count": null,
      "metadata": {
        "colab": {
          "base_uri": "https://localhost:8080/"
        },
        "id": "y8HOlaNLPKKq",
        "outputId": "ea0dcea5-b1cc-4c69-bb92-60626ba8b9e5"
      },
      "outputs": [
        {
          "output_type": "stream",
          "name": "stdout",
          "text": [
            "1\n"
          ]
        }
      ],
      "source": [
        "import math\n",
        "\n",
        "e_to_pi = math.exp(math.pi)\n",
        "pi_to_e = math.pi ** math.e\n",
        "\n",
        "if e_to_pi > pi_to_e:\n",
        "    print(1)\n",
        "else:\n",
        "    print(0)\n"
      ]
    }
  ],
  "metadata": {
    "colab": {
      "provenance": []
    },
    "kernelspec": {
      "display_name": "Python 3 (ipykernel)",
      "language": "python",
      "name": "python3"
    },
    "language_info": {
      "codemirror_mode": {
        "name": "ipython",
        "version": 3
      },
      "file_extension": ".py",
      "mimetype": "text/x-python",
      "name": "python",
      "nbconvert_exporter": "python",
      "pygments_lexer": "ipython3",
      "version": "3.11.7"
    }
  },
  "nbformat": 4,
  "nbformat_minor": 0
}