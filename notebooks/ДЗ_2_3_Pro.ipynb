{
  "cells": [
    {
      "cell_type": "markdown",
      "metadata": {
        "id": "MH-3kVwvJYeP"
      },
      "source": [
        "# 2.3 Типы коллекций. Последовательности, множества, отображения"
      ]
    },
    {
      "cell_type": "markdown",
      "metadata": {
        "id": "gMwyKhlQJ1mf"
      },
      "source": [
        "## Задание 1"
      ]
    },
    {
      "cell_type": "markdown",
      "metadata": {
        "id": "Owu684lKKrjJ"
      },
      "source": [
        "**Условие:**\n",
        "Создайте кортеж из ```10```  произвольных значений. С помощью операции среза выведите только элементы с четными индексами.\n"
      ]
    },
    {
      "cell_type": "markdown",
      "metadata": {
        "id": "OCTvo3fHLaaJ"
      },
      "source": [
        "**Решение:**"
      ]
    },
    {
      "cell_type": "code",
      "execution_count": null,
      "metadata": {
        "colab": {
          "base_uri": "https://localhost:8080/"
        },
        "id": "f9_8IGndLeRO",
        "outputId": "01c36840-b754-43e7-cca4-49ebbccd2821"
      },
      "outputs": [
        {
          "output_type": "stream",
          "name": "stdout",
          "text": [
            "(10, 30, 50, 70, 90)\n"
          ]
        }
      ],
      "source": [
        "# Создание кортежа из 10 произвольных значений\n",
        "my_tuple = (10, 20, 30, 40, 50, 60, 70, 80, 90, 100)\n",
        "\n",
        "# Вывод элементов с четными индексами с помощью операции среза\n",
        "even_indices_elements = my_tuple[::2]\n",
        "print(even_indices_elements)\n"
      ]
    },
    {
      "cell_type": "markdown",
      "metadata": {
        "id": "g5S0h2-wKfGE"
      },
      "source": [
        "## Задание 2"
      ]
    },
    {
      "cell_type": "markdown",
      "metadata": {
        "id": "orX7BUzcPKKf"
      },
      "source": [
        "**Условие:**\n",
        "Создайте список из ```10``` элементов, которые могут быть только ```0``` или ```1```. Примените к полученному списку операцию ```set()```."
      ]
    },
    {
      "cell_type": "markdown",
      "metadata": {
        "id": "ESSLfwqEPKKn"
      },
      "source": [
        "**Решение:**"
      ]
    },
    {
      "cell_type": "code",
      "execution_count": null,
      "metadata": {
        "colab": {
          "base_uri": "https://localhost:8080/"
        },
        "id": "y8HOlaNLPKKq",
        "outputId": "0a33bd17-edc9-49bc-c23f-a5e5b04f3157"
      },
      "outputs": [
        {
          "output_type": "stream",
          "name": "stdout",
          "text": [
            "{0, 1}\n"
          ]
        }
      ],
      "source": [
        "binary_list = [1, 0, 1, 0, 1, 0, 1, 0, 1, 0]\n",
        "binary_set = set(binary_list)\n",
        "print(binary_set)\n"
      ]
    },
    {
      "cell_type": "markdown",
      "metadata": {
        "id": "tq0Fcrg1KfXQ"
      },
      "source": [
        "## Задание 3"
      ]
    },
    {
      "cell_type": "markdown",
      "metadata": {
        "id": "3xp-jyyHPMIb"
      },
      "source": [
        "**Условие:**\n",
        "Создайте словарь из ```5``` сотрудников, где ключ - это имя сотрудника, а значение - его заработная плата. Добавьте в него несколько сотрудников. В цикле проиндексируйте зарплату всем сотрудникам на ```10%```.\n"
      ]
    },
    {
      "cell_type": "markdown",
      "metadata": {
        "id": "H5ZlBsI2PMIi"
      },
      "source": [
        "**Решение:**"
      ]
    },
    {
      "cell_type": "code",
      "execution_count": null,
      "metadata": {
        "colab": {
          "base_uri": "https://localhost:8080/"
        },
        "id": "6amsYUCoPMIn",
        "outputId": "ba67b401-3461-46ba-ff6a-03a87cddfc31"
      },
      "outputs": [
        {
          "output_type": "stream",
          "name": "stdout",
          "text": [
            "Исходные данные:\n",
            "Иван: 50000\n",
            "Мария: 60000\n",
            "Петр: 45000\n",
            "Анна: 70000\n",
            "Сергей: 55000\n",
            "\n",
            "Зарплаты после увеличения на 10%:\n",
            "Иван: 55000.00000000001\n",
            "Мария: 66000.0\n",
            "Петр: 49500.00000000001\n",
            "Анна: 77000.0\n",
            "Сергей: 60500.00000000001\n"
          ]
        }
      ],
      "source": [
        "# Создание словаря сотрудников\n",
        "employees = {\n",
        "    'Иван': 50000,\n",
        "    'Мария': 60000,\n",
        "    'Петр': 45000,\n",
        "    'Анна': 70000,\n",
        "    'Сергей': 55000\n",
        "}\n",
        "\n",
        "# Вывод исходных данных\n",
        "print(\"Исходные данные:\")\n",
        "for name, salary in employees.items():\n",
        "    print(f\"{name}: {salary}\")\n",
        "\n",
        "# Увеличение заработной платы на 10% в цикле\n",
        "for name in employees:\n",
        "    employees[name] *= 1.1\n",
        "\n",
        "# Вывод обновленных данных\n",
        "print(\"\\nЗарплаты после увеличения на 10%:\")\n",
        "for name, salary in employees.items():\n",
        "    print(f\"{name}: {salary}\")\n"
      ]
    }
  ],
  "metadata": {
    "colab": {
      "provenance": []
    },
    "kernelspec": {
      "display_name": "Python 3 (ipykernel)",
      "language": "python",
      "name": "python3"
    },
    "language_info": {
      "codemirror_mode": {
        "name": "ipython",
        "version": 3
      },
      "file_extension": ".py",
      "mimetype": "text/x-python",
      "name": "python",
      "nbconvert_exporter": "python",
      "pygments_lexer": "ipython3",
      "version": "3.11.7"
    }
  },
  "nbformat": 4,
  "nbformat_minor": 0
}