{
  "cells": [
    {
      "cell_type": "markdown",
      "metadata": {
        "id": "MH-3kVwvJYeP"
      },
      "source": [
        "\n",
        "# 2.9.4 Форматы файлов, кодировки и сохранение данных. Работа с файлами и каталогами"
      ]
    },
    {
      "cell_type": "markdown",
      "metadata": {
        "id": "gMwyKhlQJ1mf"
      },
      "source": [
        "## Задание 1"
      ]
    },
    {
      "cell_type": "markdown",
      "metadata": {
        "id": "Owu684lKKrjJ"
      },
      "source": [
        "**Условие:**\n",
        "Методами модуля ```os``` вывести содержание папки ```sample_data``` из корневой директории Google Colab.\n",
        "\n"
      ]
    },
    {
      "cell_type": "markdown",
      "metadata": {
        "id": "OCTvo3fHLaaJ"
      },
      "source": [
        "**Решение:**"
      ]
    },
    {
      "cell_type": "code",
      "execution_count": null,
      "metadata": {
        "colab": {
          "base_uri": "https://localhost:8080/"
        },
        "id": "f9_8IGndLeRO",
        "outputId": "68c51054-704c-4675-90fc-8c68c066066c"
      },
      "outputs": [
        {
          "output_type": "stream",
          "name": "stdout",
          "text": [
            "Содержание папки sample_data:\n",
            "anscombe.json\n",
            "README.md\n",
            "mnist_train_small.csv\n",
            "california_housing_train.csv\n",
            "mnist_test.csv\n",
            "california_housing_test.csv\n"
          ]
        }
      ],
      "source": [
        "import os\n",
        "\n",
        "# Указываем путь к папке sample_data\n",
        "folder_path = '/content/sample_data'\n",
        "\n",
        "# Получаем список содержимого папки\n",
        "contents = os.listdir(folder_path)\n",
        "\n",
        "# Выводим содержимое папки\n",
        "print(\"Содержание папки sample_data:\")\n",
        "for item in contents:\n",
        "    print(item)\n"
      ]
    },
    {
      "cell_type": "markdown",
      "metadata": {
        "id": "g5S0h2-wKfGE"
      },
      "source": [
        "## Задание 2"
      ]
    },
    {
      "cell_type": "markdown",
      "metadata": {
        "id": "orX7BUzcPKKf"
      },
      "source": [
        "**Условие:**\n",
        "Создайте произвольный словарь из 10 элементов. Сохраните его в файл в формате ```.json```. Считайте данные из полученного файла в новый словарь и пересохраните его в формате ```.pickle```. Из вновь полученного файла считайте данные в новый словарь и сравните его с изначальным словарем.\n",
        "\n"
      ]
    },
    {
      "cell_type": "markdown",
      "metadata": {
        "id": "ESSLfwqEPKKn"
      },
      "source": [
        "**Решение:**"
      ]
    },
    {
      "cell_type": "code",
      "execution_count": null,
      "metadata": {
        "colab": {
          "base_uri": "https://localhost:8080/"
        },
        "id": "y8HOlaNLPKKq",
        "outputId": "e99cf922-b358-44d9-a7bf-980dd664021b"
      },
      "outputs": [
        {
          "output_type": "stream",
          "name": "stdout",
          "text": [
            "Изначальный словарь:\n",
            "{'name': 'John', 'age': 30, 'city': 'New York', 'country': 'USA', 'occupation': 'Engineer', 'hobbies': ['reading', 'running', 'cooking'], 'education': {'degree': 'Bachelor', 'major': 'Computer Science'}, 'languages': ['English', 'Spanish'], 'pets': [{'type': 'dog', 'name': 'Buddy'}, {'type': 'cat', 'name': 'Whiskers'}], 'is_married': True}\n",
            "\n",
            "Загруженный из JSON словарь:\n",
            "{'name': 'John', 'age': 30, 'city': 'New York', 'country': 'USA', 'occupation': 'Engineer', 'hobbies': ['reading', 'running', 'cooking'], 'education': {'degree': 'Bachelor', 'major': 'Computer Science'}, 'languages': ['English', 'Spanish'], 'pets': [{'type': 'dog', 'name': 'Buddy'}, {'type': 'cat', 'name': 'Whiskers'}], 'is_married': True}\n",
            "\n",
            "Загруженный из pickle словарь:\n",
            "{'name': 'John', 'age': 30, 'city': 'New York', 'country': 'USA', 'occupation': 'Engineer', 'hobbies': ['reading', 'running', 'cooking'], 'education': {'degree': 'Bachelor', 'major': 'Computer Science'}, 'languages': ['English', 'Spanish'], 'pets': [{'type': 'dog', 'name': 'Buddy'}, {'type': 'cat', 'name': 'Whiskers'}], 'is_married': True}\n",
            "\n",
            "Словари идентичны.\n"
          ]
        }
      ],
      "source": [
        "import json\n",
        "import pickle\n",
        "\n",
        "# Произвольный словарь из 10 элементов\n",
        "my_dict = {\n",
        "    'name': 'John',\n",
        "    'age': 30,\n",
        "    'city': 'New York',\n",
        "    'country': 'USA',\n",
        "    'occupation': 'Engineer',\n",
        "    'hobbies': ['reading', 'running', 'cooking'],\n",
        "    'education': {'degree': 'Bachelor', 'major': 'Computer Science'},\n",
        "    'languages': ['English', 'Spanish'],\n",
        "    'pets': [{'type': 'dog', 'name': 'Buddy'}, {'type': 'cat', 'name': 'Whiskers'}],\n",
        "    'is_married': True\n",
        "}\n",
        "\n",
        "# Сохраняем словарь в файл в формате JSON\n",
        "with open('data.json', 'w') as json_file:\n",
        "    json.dump(my_dict, json_file)\n",
        "\n",
        "# Считываем данные из JSON файла в новый словарь\n",
        "with open('data.json', 'r') as json_file:\n",
        "    loaded_dict_json = json.load(json_file)\n",
        "\n",
        "# Пересохраняем словарь в формате pickle\n",
        "with open('data.pickle', 'wb') as pickle_file:\n",
        "    pickle.dump(loaded_dict_json, pickle_file)\n",
        "\n",
        "# Считываем данные из файла в формате pickle в новый словарь\n",
        "with open('data.pickle', 'rb') as pickle_file:\n",
        "    loaded_dict_pickle = pickle.load(pickle_file)\n",
        "\n",
        "# Сравниваем изначальный словарь с загруженным из файла в формате JSON и с загруженным из файла в формате pickle\n",
        "print(\"Изначальный словарь:\")\n",
        "print(my_dict)\n",
        "print(\"\\nЗагруженный из JSON словарь:\")\n",
        "print(loaded_dict_json)\n",
        "print(\"\\nЗагруженный из pickle словарь:\")\n",
        "print(loaded_dict_pickle)\n",
        "\n",
        "# Проверяем, идентичны ли словари\n",
        "if my_dict == loaded_dict_json == loaded_dict_pickle:\n",
        "    print(\"\\nСловари идентичны.\")\n",
        "else:\n",
        "    print(\"\\nСловари различны.\")\n"
      ]
    }
  ],
  "metadata": {
    "colab": {
      "provenance": []
    },
    "kernelspec": {
      "display_name": "Python 3 (ipykernel)",
      "language": "python",
      "name": "python3"
    },
    "language_info": {
      "codemirror_mode": {
        "name": "ipython",
        "version": 3
      },
      "file_extension": ".py",
      "mimetype": "text/x-python",
      "name": "python",
      "nbconvert_exporter": "python",
      "pygments_lexer": "ipython3",
      "version": "3.11.7"
    }
  },
  "nbformat": 4,
  "nbformat_minor": 0
}