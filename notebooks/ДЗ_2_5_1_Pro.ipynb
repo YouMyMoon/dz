{
  "cells": [
    {
      "cell_type": "markdown",
      "metadata": {
        "id": "MH-3kVwvJYeP"
      },
      "source": [
        "# 2.5.1 Основы написания функций"
      ]
    },
    {
      "cell_type": "markdown",
      "metadata": {
        "id": "gMwyKhlQJ1mf"
      },
      "source": [
        "## Задание 1"
      ]
    },
    {
      "cell_type": "markdown",
      "metadata": {
        "id": "Owu684lKKrjJ"
      },
      "source": [
        "**Условие:**\n",
        "Напишите функцию ```multi_mean()```, которая может принимать на вход любое количество чисел и возвращает кортеж различных средних значений (среднее арифметическое, среднее геометрическое, среднее гармоническое). В ответе укажите результат работы функции для ```multi_mean(1.74, 2, 18, 24)```.\n",
        "\n",
        "**Формат ответа:**\n",
        "Кортеж чисел (например, ```(25.4, 8.2, 3.5)```)"
      ]
    },
    {
      "cell_type": "markdown",
      "metadata": {
        "id": "OCTvo3fHLaaJ"
      },
      "source": [
        "**Решение:**"
      ]
    },
    {
      "cell_type": "code",
      "execution_count": null,
      "metadata": {
        "colab": {
          "base_uri": "https://localhost:8080/"
        },
        "id": "f9_8IGndLeRO",
        "outputId": "12da115c-671f-433a-81bf-9847763a6e0d"
      },
      "outputs": [
        {
          "output_type": "stream",
          "name": "stdout",
          "text": [
            "(11.435, 6.2268119139225995, 3.4131589701675518)\n"
          ]
        }
      ],
      "source": [
        "from math import sqrt\n",
        "\n",
        "def multi_mean(*args):\n",
        "    n = len(args)\n",
        "    if n == 0:\n",
        "        return None\n",
        "\n",
        "    arithmetic_mean = sum(args) / n\n",
        "\n",
        "    geometric_mean = 1\n",
        "    for num in args:\n",
        "        geometric_mean *= num\n",
        "    geometric_mean **= (1 / n)\n",
        "\n",
        "    harmonic_mean = n / sum(1/num for num in args)\n",
        "\n",
        "    return arithmetic_mean, geometric_mean, harmonic_mean\n",
        "\n",
        "\n",
        "result = multi_mean(1.74, 2, 18, 24)\n",
        "print(result)\n"
      ]
    },
    {
      "cell_type": "markdown",
      "metadata": {
        "id": "po9IAGLrN40v"
      },
      "source": [
        "## Задание 2"
      ]
    },
    {
      "cell_type": "markdown",
      "metadata": {
        "id": "d1a0uN6YN41B"
      },
      "source": [
        "**Условие:**\n",
        "Напишите функцию, которая принимает на вход в виде именованных переменных длины сторон параллелепипеда и возвращает кортеж значений (площадь параллелепипеда, объем параллелепипеда). Напишите строку документации для данной функции. В ответе укажите результат работы функции для длин сторон ```2,12,6```.\n",
        "\n",
        "**Формат ответа:**\n",
        "Кортеж чисел (например, ```(25.4, 8.2)```)"
      ]
    },
    {
      "cell_type": "markdown",
      "metadata": {
        "id": "iWPZadMmN41H"
      },
      "source": [
        "**Решение:**"
      ]
    },
    {
      "cell_type": "code",
      "execution_count": null,
      "metadata": {
        "colab": {
          "base_uri": "https://localhost:8080/"
        },
        "id": "woFKze5xN41M",
        "outputId": "dc2a7546-c4a4-4071-d6f9-9cfb3e92c829"
      },
      "outputs": [
        {
          "output_type": "stream",
          "name": "stdout",
          "text": [
            "(216, 144)\n"
          ]
        }
      ],
      "source": [
        "def calculate_parallelepiped_properties(length=1, width=1, height=1):\n",
        "    area = 2 * (length * width + length * height + width * height)\n",
        "    volume = length * width * height\n",
        "    return area, volume\n",
        "\n",
        "result = calculate_parallelepiped_properties(length=2, width=12, height=6)\n",
        "print(tuple(result))\n",
        "\n"
      ]
    },
    {
      "cell_type": "markdown",
      "metadata": {
        "id": "ZuoZQfnXPWcB"
      },
      "source": [
        "## Задание 3"
      ]
    },
    {
      "cell_type": "markdown",
      "metadata": {
        "id": "CCiiVIVzPWcF"
      },
      "source": [
        "**Условие:**\n",
        "Напишите функцию подсчета факториала числа. Найдите значение ```12!```.\n",
        "\n",
        "**Формат ответа:**\n",
        "Число (например, ```1235```)\n"
      ]
    },
    {
      "cell_type": "markdown",
      "metadata": {
        "id": "Flg_SH_8PWcJ"
      },
      "source": [
        "**Решение:**"
      ]
    },
    {
      "cell_type": "code",
      "execution_count": null,
      "metadata": {
        "colab": {
          "base_uri": "https://localhost:8080/"
        },
        "id": "OqMIG3a9PWcM",
        "outputId": "5016906d-fb5c-4352-cc07-c19691161a0f"
      },
      "outputs": [
        {
          "output_type": "stream",
          "name": "stdout",
          "text": [
            "479001600\n"
          ]
        }
      ],
      "source": [
        "def factorial(n):\n",
        "    if n == 0:\n",
        "        return 1\n",
        "    else:\n",
        "        return n * factorial(n - 1)\n",
        "\n",
        "result = factorial(12)\n",
        "print(result)\n"
      ]
    }
  ],
  "metadata": {
    "colab": {
      "provenance": []
    },
    "kernelspec": {
      "display_name": "Python 3 (ipykernel)",
      "language": "python",
      "name": "python3"
    },
    "language_info": {
      "codemirror_mode": {
        "name": "ipython",
        "version": 3
      },
      "file_extension": ".py",
      "mimetype": "text/x-python",
      "name": "python",
      "nbconvert_exporter": "python",
      "pygments_lexer": "ipython3",
      "version": "3.11.7"
    }
  },
  "nbformat": 4,
  "nbformat_minor": 0
}