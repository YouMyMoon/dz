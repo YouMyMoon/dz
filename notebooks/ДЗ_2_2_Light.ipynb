{
  "cells": [
    {
      "cell_type": "markdown",
      "metadata": {
        "id": "MH-3kVwvJYeP"
      },
      "source": [
        "# 2.2 Типы данных. Идентификаторы и ключевые слова. Целочисленные типы и числа с плавающей запятой. Строки"
      ]
    },
    {
      "cell_type": "markdown",
      "metadata": {
        "id": "gMwyKhlQJ1mf"
      },
      "source": [
        "## Задание 1"
      ]
    },
    {
      "cell_type": "markdown",
      "metadata": {
        "id": "Owu684lKKrjJ"
      },
      "source": [
        "**Условие:**\n",
        "Напишите функцию, получающую на вход целое положительное десятичное число и выводящую на экран его двоичное представление. Что выдаст функция при подаче на вход числа ```124124234```.\n",
        "\n",
        "**Формат ответа:**\n",
        "Число в двоичном виде (например, ```0b10100001000101```)\n"
      ]
    },
    {
      "cell_type": "markdown",
      "metadata": {
        "id": "OCTvo3fHLaaJ"
      },
      "source": [
        "**Решение:**"
      ]
    },
    {
      "cell_type": "code",
      "execution_count": null,
      "metadata": {
        "colab": {
          "base_uri": "https://localhost:8080/"
        },
        "id": "f9_8IGndLeRO",
        "outputId": "464d6bad-59f3-4949-bbea-4fdb34ba4142"
      },
      "outputs": [
        {
          "output_type": "stream",
          "name": "stdout",
          "text": [
            "Введите целое положительное число: 6\n",
            "110\n"
          ]
        }
      ],
      "source": [
        "def decimal_to_binary(n):\n",
        "    if n < 0:\n",
        "        print(\"Введите положительное число\")\n",
        "        return\n",
        "    elif n == 0:\n",
        "        print(0)\n",
        "        return\n",
        "\n",
        "    binary_digits = []\n",
        "    while n > 0:\n",
        "        binary_digits.append(str(n % 2))    #добавляет в список строки которые являются остатками от деления числа на 2\n",
        "        n //= 2\n",
        "\n",
        "    binary_digits.reverse()    #переворачивает список\n",
        "    binary_str = ''.join(binary_digits)    #объединяет элементы списка в одну строку\n",
        "\n",
        "    print(binary_str)\n",
        "\n",
        "number = int(input(\"Введите целое положительное число: \"))\n",
        "decimal_to_binary(number)"
      ]
    },
    {
      "cell_type": "markdown",
      "metadata": {
        "id": "g5S0h2-wKfGE"
      },
      "source": [
        "## Задание 2"
      ]
    },
    {
      "cell_type": "markdown",
      "metadata": {
        "id": "orX7BUzcPKKf"
      },
      "source": [
        "**Условие:**\n",
        "Используя функции библиотеки ```math``` найдите значения синуса, косинуса и тангенса угла с градусной мерой ```75```. Округлите до 2х знаков после запятой.\n",
        "\n",
        "**Формат ответа:**\n",
        "Кортеж (например, ```(0.23, 0.67, 0.56)```)\n"
      ]
    },
    {
      "cell_type": "markdown",
      "metadata": {
        "id": "ESSLfwqEPKKn"
      },
      "source": [
        "**Решение:**"
      ]
    },
    {
      "cell_type": "code",
      "execution_count": null,
      "metadata": {
        "colab": {
          "base_uri": "https://localhost:8080/"
        },
        "id": "y8HOlaNLPKKq",
        "outputId": "06b0560f-7ef0-49b4-c500-1f88b4001e85"
      },
      "outputs": [
        {
          "output_type": "stream",
          "name": "stdout",
          "text": [
            "(0.97, 0.26, 3.73)\n"
          ]
        }
      ],
      "source": [
        "from math import *\n",
        "angle_degrees = 75\n",
        "angle_radians = radians(angle_degrees)\n",
        "\n",
        "sin_value = round(sin(angle_radians), 2)\n",
        "cos_value = round(cos(angle_radians), 2)\n",
        "tan_value = round(tan(angle_radians), 2)\n",
        "\n",
        "answers = (sin_value, cos_value, tan_value)\n",
        "print(answers)"
      ]
    },
    {
      "cell_type": "markdown",
      "metadata": {
        "id": "tq0Fcrg1KfXQ"
      },
      "source": [
        "## Задание 3"
      ]
    },
    {
      "cell_type": "markdown",
      "metadata": {
        "id": "3xp-jyyHPMIb"
      },
      "source": [
        "**Условие:**\n",
        "С помощью операции среза выведите слово ```специалист``` из данного текста. В ответе укажите первый и последний индекс, который участвовал в срезе.\n",
        "\n",
        "**Формат ответа:**\n",
        "Кортеж (например, ```(5,10)```)\n",
        "\n"
      ]
    },
    {
      "cell_type": "markdown",
      "metadata": {
        "id": "H5ZlBsI2PMIi"
      },
      "source": [
        "**Решение:**"
      ]
    },
    {
      "cell_type": "code",
      "execution_count": null,
      "metadata": {
        "id": "6amsYUCoPMIn"
      },
      "outputs": [],
      "source": [
        "text = \"Представим ситуацию: вы — специалист по информационной безопасности и знаете, что выстроенная вами защита — полная чушь. Возможно, вы этого и не знаете, но проверять особо не желаете, ведь кому хочется выходить из зоны комфорта и дополнительно что-то предпринимать, внедрять средства защиты, смягчать риски, отчитываться за бюджет?\""
      ]
    },
    {
      "cell_type": "code",
      "source": [
        "def text_slice(text, need_word):\n",
        "    nachalniy_index = text.find(need_word)  # Найти начальный индекс слова\n",
        "    if nachalniy_index == -1:\n",
        "        print(\"Слово не найдено в тексте\")\n",
        "        return text\n",
        "    dlina_slova = len(need_word)  # Получить длину искомого слова\n",
        "    konechniy_index = nachalniy_index + dlina_slova - 1  # Вычислить конечный индекс\n",
        "    a = text[:nachalniy_index] + text[konechniy_index + 1:]  # Вырезать слово\n",
        "    print(\"Начальный индекс среза:\", nachalniy_index)\n",
        "    print(\"Конечный индекс среза:\", konechniy_index)\n",
        "    return a\n",
        "\n",
        "\n",
        "need_word = \"специалист\"\n",
        "indeksi_sreza = text_slice(text, need_word)\n",
        "print(indeksi_sreza)"
      ],
      "metadata": {
        "colab": {
          "base_uri": "https://localhost:8080/"
        },
        "id": "qDv5lbwmrK-I",
        "outputId": "a2cc891b-4914-49fa-959b-3c05ecdf9774"
      },
      "execution_count": null,
      "outputs": [
        {
          "output_type": "stream",
          "name": "stdout",
          "text": [
            "Начальный индекс среза: 26\n",
            "Конечный индекс среза: 35\n",
            "Представим ситуацию: вы —  по информационной безопасности и знаете, что выстроенная вами защита — полная чушь. Возможно, вы этого и не знаете, но проверять особо не желаете, ведь кому хочется выходить из зоны комфорта и дополнительно что-то предпринимать, внедрять средства защиты, смягчать риски, отчитываться за бюджет?\n"
          ]
        }
      ]
    }
  ],
  "metadata": {
    "colab": {
      "provenance": []
    },
    "kernelspec": {
      "display_name": "Python 3 (ipykernel)",
      "language": "python",
      "name": "python3"
    },
    "language_info": {
      "codemirror_mode": {
        "name": "ipython",
        "version": 3
      },
      "file_extension": ".py",
      "mimetype": "text/x-python",
      "name": "python",
      "nbconvert_exporter": "python",
      "pygments_lexer": "ipython3",
      "version": "3.11.7"
    },
    "toc": {
      "base_numbering": 1,
      "nav_menu": {},
      "number_sections": true,
      "sideBar": true,
      "skip_h1_title": false,
      "title_cell": "Table of Contents",
      "title_sidebar": "Contents",
      "toc_cell": false,
      "toc_position": {},
      "toc_section_display": true,
      "toc_window_display": false
    }
  },
  "nbformat": 4,
  "nbformat_minor": 0
}