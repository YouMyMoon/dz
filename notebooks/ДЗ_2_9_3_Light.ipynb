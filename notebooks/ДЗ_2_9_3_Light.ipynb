{
  "cells": [
    {
      "cell_type": "markdown",
      "metadata": {
        "id": "MH-3kVwvJYeP"
      },
      "source": [
        "# 2.9.3 Обработка строк, регулярные выражения"
      ]
    },
    {
      "cell_type": "markdown",
      "metadata": {
        "id": "gMwyKhlQJ1mf"
      },
      "source": [
        "## Задание 1"
      ]
    },
    {
      "cell_type": "markdown",
      "metadata": {
        "id": "Owu684lKKrjJ"
      },
      "source": [
        "**Условие:**\n",
        "Напишите функцию, которая просит пользователя ввести фамилию и имя, а потом возвращает отформатированное личное приветствие: по центру с шириной 70 знаков, обрамленное с обоих сторон символом ```=```. Не претендуя на звание самого красивого вывода, данные требования к стилю можно и нужно поменять.\n",
        "\n"
      ]
    },
    {
      "cell_type": "markdown",
      "metadata": {
        "id": "OCTvo3fHLaaJ"
      },
      "source": [
        "**Решение:**"
      ]
    },
    {
      "cell_type": "code",
      "execution_count": null,
      "metadata": {
        "colab": {
          "base_uri": "https://localhost:8080/"
        },
        "id": "f9_8IGndLeRO",
        "outputId": "65e9afe6-e679-43ef-ee47-1e18d4a87adc"
      },
      "outputs": [
        {
          "output_type": "stream",
          "name": "stdout",
          "text": [
            "Введите вашу фамилию: Sidorov\n",
            "Введите ваше имя: Andrey\n",
            "====================== Привет, Andrey Sidorov! =======================\n"
          ]
        }
      ],
      "source": [
        "def personal_greeting():\n",
        "    # Запрос ввода фамилии и имени пользователя\n",
        "    last_name = input(\"Введите вашу фамилию: \")\n",
        "    first_name = input(\"Введите ваше имя: \")\n",
        "\n",
        "    # Формирование строки приветствия\n",
        "    greeting = f\"= Привет, {first_name} {last_name}! =\"\n",
        "\n",
        "    # Вычисление количества символов \"-\" для обрамления\n",
        "    dash_length = 70 - len(greeting)\n",
        "\n",
        "    # Формирование строки с обрамлением\n",
        "    formatted_greeting = \"=\" * (dash_length // 2) + greeting + \"=\" * (dash_length // 2)\n",
        "\n",
        "    # Если общее количество символов нечетно, добавляем один символ \"=\" справа\n",
        "    if len(formatted_greeting) < 70:\n",
        "        formatted_greeting += \"=\"\n",
        "\n",
        "    return formatted_greeting\n",
        "\n",
        "# Вызов функции и вывод результата\n",
        "print(personal_greeting())\n"
      ]
    },
    {
      "cell_type": "markdown",
      "metadata": {
        "id": "g5S0h2-wKfGE"
      },
      "source": [
        "## Задание 2"
      ]
    },
    {
      "cell_type": "markdown",
      "metadata": {
        "id": "orX7BUzcPKKf"
      },
      "source": [
        "**Условие:**\n",
        "Используя регулярные выражения найдите все числовые значения из текста решения.\n",
        "\n",
        "\n",
        "\n"
      ]
    },
    {
      "cell_type": "markdown",
      "metadata": {
        "id": "ESSLfwqEPKKn"
      },
      "source": [
        "**Решение:**"
      ]
    },
    {
      "cell_type": "code",
      "execution_count": null,
      "metadata": {
        "id": "y8HOlaNLPKKq"
      },
      "outputs": [],
      "source": [
        "solution_text = '''Вы пишите код в браузере в ноутбуке, он выполняется на виртуальной машине в облаке Google.\n",
        "Машина выдается вам на 12 часов, после этого она останавливается. Однако ничто не мешает вам запустить еще одну виртуальную машину и работать еще 12 часов.\n",
        "Только имейте в виду, что после остановки виртуальной машины все данные с нее удаляются.\n",
        "Поэтому не забывайте сохранять нужные данные на свой компьютер или Google Drive, а после перезапуска виртуальной машины загружать заново.'''"
      ]
    },
    {
      "cell_type": "code",
      "source": [
        "import re\n",
        "\n",
        "\n",
        "\n",
        "# Паттерн для поиска числовых значений\n",
        "pattern = r\"[-+]?\\d*\\.?\\d+\"\n",
        "\n",
        "# Находим все числовые значения в тексте решения\n",
        "numeric_values = re.findall(pattern, solution_text)\n",
        "\n",
        "# Выводим найденные числовые значения\n",
        "print(\"Числовые значения в тексте решения:\")\n",
        "for value in numeric_values:\n",
        "    print(value)\n"
      ],
      "metadata": {
        "colab": {
          "base_uri": "https://localhost:8080/"
        },
        "id": "AMJdOx6WWRcp",
        "outputId": "37abb13b-bf31-4f96-8335-b5a35f67c5b4"
      },
      "execution_count": null,
      "outputs": [
        {
          "output_type": "stream",
          "name": "stdout",
          "text": [
            "Числовые значения в тексте решения:\n",
            "12\n",
            "12\n"
          ]
        }
      ]
    }
  ],
  "metadata": {
    "colab": {
      "provenance": []
    },
    "kernelspec": {
      "display_name": "Python 3 (ipykernel)",
      "language": "python",
      "name": "python3"
    },
    "language_info": {
      "codemirror_mode": {
        "name": "ipython",
        "version": 3
      },
      "file_extension": ".py",
      "mimetype": "text/x-python",
      "name": "python",
      "nbconvert_exporter": "python",
      "pygments_lexer": "ipython3",
      "version": "3.11.7"
    }
  },
  "nbformat": 4,
  "nbformat_minor": 0
}