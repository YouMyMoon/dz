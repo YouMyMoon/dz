{
  "cells": [
    {
      "cell_type": "markdown",
      "metadata": {
        "id": "MH-3kVwvJYeP"
      },
      "source": [
        "# 2.6 Модули"
      ]
    },
    {
      "cell_type": "markdown",
      "metadata": {
        "id": "Ul9jm4IVKflm"
      },
      "source": [
        "## Задание 1"
      ]
    },
    {
      "cell_type": "markdown",
      "metadata": {
        "id": "MHcCRybmPN2l"
      },
      "source": [
        "**Условие:**\n",
        "Посчитать значение $\\cos^2(\\pi/7)$ и $\\sin^2(\\pi/7)$, используя указанные функции из библиотеки ```math```, применив для этого **каждую** из конструкций импорта:\n",
        "``` python\n",
        "# 1. Импорт модуля или модулей целиком\n",
        "import имя_модуля\n",
        "import имя_модуля1, имя_модуля2\n",
        "\n",
        "# 2. Импорт модуля с присвоением псевдонима модулю\n",
        "import имя_модуля as новое_имя\n",
        "\n",
        "# 3. Импорт конкретного объекта из модуля\n",
        "from имя_модуля import имя_объекта\n",
        "from имя_модуля import имя_объекта1, имя_объекта2\n",
        "\n",
        "# 4. Импорт конкретного объекта из модуля с присвоением псевдонима объекту\n",
        "from имя_модуля import имя_объекта as псевдоним_объекта\n",
        "\n",
        "# 5. Импорт всех объектов из модуля\n",
        "from имя_модуля import *\n",
        "```\n",
        "Найдите сумму $\\cos^2(\\pi/7)$ и $\\sin^2(\\pi/7)$.\n",
        "\n",
        "**Формат ответа:** Число с плавающей запятой, округленное до десятых (например,```0.1```)"
      ]
    },
    {
      "cell_type": "markdown",
      "metadata": {
        "id": "KGKyYMeJPN2v"
      },
      "source": [
        "**Решение:**"
      ]
    },
    {
      "cell_type": "code",
      "execution_count": null,
      "metadata": {
        "colab": {
          "base_uri": "https://localhost:8080/"
        },
        "id": "JXulcWCxPN26",
        "outputId": "ad66a1b4-3b4f-472a-bbd3-563e0e90301e"
      },
      "outputs": [
        {
          "output_type": "stream",
          "name": "stdout",
          "text": [
            "1.0\n"
          ]
        }
      ],
      "source": [
        "import math\n",
        "cos_pi_7 = math.cos(math.pi/7)\n",
        "sin_pi_7 = math.sin(math.pi/7)\n",
        "sum_1 = cos_pi_7**2 + sin_pi_7**2\n",
        "print(sum_1)"
      ]
    },
    {
      "cell_type": "code",
      "source": [
        "import math as m\n",
        "cos_pi_7 = m.cos(m.pi/7)\n",
        "sin_pi_7 = m.sin(m.pi/7)\n",
        "sum_2 = cos_pi_7**2 + sin_pi_7**2\n",
        "print(sum_2)"
      ],
      "metadata": {
        "colab": {
          "base_uri": "https://localhost:8080/"
        },
        "id": "5Xo2Iicnfyjc",
        "outputId": "72ab9c26-7d74-4cf2-d06c-7ad17ecb3b4c"
      },
      "execution_count": null,
      "outputs": [
        {
          "output_type": "stream",
          "name": "stdout",
          "text": [
            "1.0\n"
          ]
        }
      ]
    },
    {
      "cell_type": "code",
      "source": [
        "from math import cos, sin, pi\n",
        "cos_pi_7 = cos(pi/7)\n",
        "sin_pi_7 = sin(pi/7)\n",
        "sum_3 = cos_pi_7**2 + sin_pi_7**2\n",
        "print(sum_3)"
      ],
      "metadata": {
        "colab": {
          "base_uri": "https://localhost:8080/"
        },
        "id": "ME2R-jBQf_oc",
        "outputId": "63dc636f-40d9-4aa7-cf38-afcb28586ccd"
      },
      "execution_count": null,
      "outputs": [
        {
          "output_type": "stream",
          "name": "stdout",
          "text": [
            "1.0\n"
          ]
        }
      ]
    },
    {
      "cell_type": "code",
      "source": [
        "from math import cos as c, sin as s, pi as p\n",
        "cos_pi_7 = c(p/7)\n",
        "sin_pi_7 = s(p/7)\n",
        "sum_4 = cos_pi_7**2 + sin_pi_7**2\n",
        "print(sum_4)"
      ],
      "metadata": {
        "colab": {
          "base_uri": "https://localhost:8080/"
        },
        "id": "BjDUqhhQg7MW",
        "outputId": "7c266093-fdba-4f7f-95be-ac234422a57e"
      },
      "execution_count": null,
      "outputs": [
        {
          "output_type": "stream",
          "name": "stdout",
          "text": [
            "1.0\n"
          ]
        }
      ]
    },
    {
      "cell_type": "code",
      "source": [
        "from math import *\n",
        "cos_pi_7 = cos(pi/7)\n",
        "sin_pi_7 = sin(pi/7)\n",
        "sum_5 = cos_pi_7**2 + sin_pi_7**2\n",
        "print(sum_5)"
      ],
      "metadata": {
        "colab": {
          "base_uri": "https://localhost:8080/"
        },
        "id": "9zTByYFdhMrZ",
        "outputId": "fd41dc0f-9cb1-4348-fab4-95d5ec2953bd"
      },
      "execution_count": null,
      "outputs": [
        {
          "output_type": "stream",
          "name": "stdout",
          "text": [
            "1.0\n"
          ]
        }
      ]
    }
  ],
  "metadata": {
    "colab": {
      "provenance": []
    },
    "kernelspec": {
      "display_name": "Python 3 (ipykernel)",
      "language": "python",
      "name": "python3"
    },
    "language_info": {
      "codemirror_mode": {
        "name": "ipython",
        "version": 3
      },
      "file_extension": ".py",
      "mimetype": "text/x-python",
      "name": "python",
      "nbconvert_exporter": "python",
      "pygments_lexer": "ipython3",
      "version": "3.11.7"
    }
  },
  "nbformat": 4,
  "nbformat_minor": 0
}