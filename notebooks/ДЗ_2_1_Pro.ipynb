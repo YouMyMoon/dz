{
  "cells": [
    {
      "cell_type": "markdown",
      "metadata": {
        "id": "MH-3kVwvJYeP"
      },
      "source": [
        "# 2.1 Быстрое введение. Синтаксические основы языка Python"
      ]
    },
    {
      "cell_type": "markdown",
      "metadata": {
        "id": "gMwyKhlQJ1mf"
      },
      "source": [
        "## Задание 1"
      ]
    },
    {
      "cell_type": "markdown",
      "metadata": {
        "id": "Owu684lKKrjJ"
      },
      "source": [
        "**Условие:**\n",
        "Проверьте истинность выражения $a^2 - b^2 = (a-b)(a+b)$ для 5ти произвольных наборов $(a,b)$. Выведите кортеж из 5ти булевых значений результатов проверки.\n",
        "\n",
        "**Формат ответа:**\n",
        "Кортеж из булевых значений (например, ```(True, False, True,False, True)```)\n"
      ]
    },
    {
      "cell_type": "markdown",
      "metadata": {
        "id": "OCTvo3fHLaaJ"
      },
      "source": [
        "**Решение:**"
      ]
    },
    {
      "cell_type": "code",
      "execution_count": null,
      "metadata": {
        "colab": {
          "base_uri": "https://localhost:8080/"
        },
        "id": "f9_8IGndLeRO",
        "outputId": "71743b53-a869-4600-d212-8d3e0055de76"
      },
      "outputs": [
        {
          "output_type": "stream",
          "name": "stdout",
          "text": [
            "(True, True, True, True, True)\n"
          ]
        }
      ],
      "source": [
        "def proverka(a, b):\n",
        "    c = a ** 2 - b**2\n",
        "    d = (a - b) * (a + b)\n",
        "    return c == d    # всегда будут равны\n",
        "results = []\n",
        "test = [(2, 3), (0, 2), (3, 4), (4, 0), (5, 4)]\n",
        "for a, b in test:\n",
        "  results.append(proverka(a, b))\n",
        "print(tuple(results))"
      ]
    },
    {
      "cell_type": "markdown",
      "metadata": {
        "id": "g5S0h2-wKfGE"
      },
      "source": [
        "## Задание 2"
      ]
    },
    {
      "cell_type": "markdown",
      "metadata": {
        "id": "orX7BUzcPKKf"
      },
      "source": [
        "**Условие:**\n",
        "Напишите функцию возведения числа в квадрат, которая предлагает пользователю ввести указанное число. Запустите функцию и введите ```345.876```. Результат работы функции запишите в ответ.\n",
        "\n",
        "**Формат ответа:**\n",
        "Число (например, ```1235234.23```)\n",
        "\n",
        "**Оценка в баллах:** 3 балла"
      ]
    },
    {
      "cell_type": "markdown",
      "metadata": {
        "id": "ESSLfwqEPKKn"
      },
      "source": [
        "**Решение:**"
      ]
    },
    {
      "cell_type": "code",
      "execution_count": null,
      "metadata": {
        "colab": {
          "base_uri": "https://localhost:8080/"
        },
        "id": "y8HOlaNLPKKq",
        "outputId": "7768e128-6573-431f-932e-dd630273ffce"
      },
      "outputs": [
        {
          "output_type": "stream",
          "name": "stdout",
          "text": [
            "345.876\n",
            "119630.20737599998\n"
          ]
        }
      ],
      "source": [
        "def kvadrat():\n",
        "  chislo = float(input())\n",
        "  result = chislo ** 2\n",
        "  return result\n",
        "result = kvadrat()\n",
        "print(result)"
      ]
    },
    {
      "cell_type": "markdown",
      "metadata": {
        "id": "tq0Fcrg1KfXQ"
      },
      "source": [
        "## Задание 3"
      ]
    },
    {
      "cell_type": "markdown",
      "metadata": {
        "id": "3xp-jyyHPMIb"
      },
      "source": [
        "**Условие:**\n",
        "Напишите функцию, которая предлагает пользователю ввести целое неотрицательное число и выводит на экран кубы всех положительных чисел до введённого участником(числа должны быть больше ```0```, но меньше введенного числа). Запишите в ответ последнее число, которое появилось на экране при работе функции для введенного значения ```27```.\n",
        "\n",
        "**Формат ответа:**\n",
        "Число (например, ```(12350)```)"
      ]
    },
    {
      "cell_type": "markdown",
      "metadata": {
        "id": "H5ZlBsI2PMIi"
      },
      "source": [
        "**Решение:**"
      ]
    },
    {
      "cell_type": "code",
      "execution_count": null,
      "metadata": {
        "colab": {
          "base_uri": "https://localhost:8080/"
        },
        "id": "iH5L1qbXhZGB",
        "outputId": "1553b1f1-0327-4c60-e720-b54a6ae09b17"
      },
      "outputs": [
        {
          "output_type": "stream",
          "name": "stdout",
          "text": [
            "27\n",
            "1\n",
            "8\n",
            "27\n",
            "64\n",
            "125\n",
            "216\n",
            "343\n",
            "512\n",
            "729\n",
            "1000\n",
            "1331\n",
            "1728\n",
            "2197\n",
            "2744\n",
            "3375\n",
            "4096\n",
            "4913\n",
            "5832\n",
            "6859\n",
            "8000\n",
            "9261\n",
            "10648\n",
            "12167\n",
            "13824\n",
            "15625\n",
            "17576\n",
            "19683\n"
          ]
        }
      ],
      "source": [
        "def kub():\n",
        "  chislo = int(input())\n",
        "  for i in range(1, chislo):\n",
        "    print(i ** 3)\n",
        "  return chislo ** 3\n",
        "result = kub()\n",
        "print(result)"
      ]
    }
  ],
  "metadata": {
    "colab": {
      "provenance": []
    },
    "kernelspec": {
      "display_name": "Python 3 (ipykernel)",
      "language": "python",
      "name": "python3"
    },
    "language_info": {
      "codemirror_mode": {
        "name": "ipython",
        "version": 3
      },
      "file_extension": ".py",
      "mimetype": "text/x-python",
      "name": "python",
      "nbconvert_exporter": "python",
      "pygments_lexer": "ipython3",
      "version": "3.11.7"
    },
    "toc": {
      "base_numbering": 1,
      "nav_menu": {},
      "number_sections": true,
      "sideBar": true,
      "skip_h1_title": false,
      "title_cell": "Table of Contents",
      "title_sidebar": "Contents",
      "toc_cell": false,
      "toc_position": {},
      "toc_section_display": true,
      "toc_window_display": false
    }
  },
  "nbformat": 4,
  "nbformat_minor": 0
}