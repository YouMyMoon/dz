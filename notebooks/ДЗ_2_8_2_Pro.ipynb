{
  "cells": [
    {
      "cell_type": "markdown",
      "metadata": {
        "id": "MH-3kVwvJYeP"
      },
      "source": [
        "# 2.8.2 Создание собственных классов"
      ]
    },
    {
      "cell_type": "markdown",
      "metadata": {
        "id": "gMwyKhlQJ1mf"
      },
      "source": [
        "## Задание 1"
      ]
    },
    {
      "cell_type": "markdown",
      "metadata": {
        "id": "Owu684lKKrjJ"
      },
      "source": [
        "**Условие:** Создайте собственный класс ```Person``` работника компании. Добавьте следующие атрибуты данных, использую конструктор ```__init__```:\n",
        "\n",
        "*   ```name```(фамилия)\n",
        "*   ```job```(должность)\n",
        "*   ```pai```(зарплата)\n",
        "\n",
        "Создайте метод класса ```person_raise(self, prcnt)```, который повышает зарплату на ```prcnt``` процентов от имеющегося значения. Создайте работника и выведите кортеж с 2мя значениями: (зарплата при создании работника, зарплата после повышения на 20%)\n",
        "\n",
        "**Формат ответа:** кортеж (например, ```(150, 200)```)\n"
      ]
    },
    {
      "cell_type": "markdown",
      "metadata": {
        "id": "OCTvo3fHLaaJ"
      },
      "source": [
        "**Решение:**"
      ]
    },
    {
      "cell_type": "code",
      "execution_count": null,
      "metadata": {
        "colab": {
          "base_uri": "https://localhost:8080/"
        },
        "id": "f9_8IGndLeRO",
        "outputId": "6405ab56-c0a9-4a8f-f2c7-4af00e5dfa62"
      },
      "outputs": [
        {
          "output_type": "stream",
          "name": "stdout",
          "text": [
            "(50000, 60000.0)\n"
          ]
        }
      ],
      "source": [
        "class Person:\n",
        "    def __init__(self, name, job, pay):\n",
        "        self.name = name\n",
        "        self.job = job\n",
        "        self.pay = pay\n",
        "\n",
        "    def person_raise(self, prcnt):\n",
        "        self.pay *= (1 + prcnt / 100)\n",
        "\n",
        "employee = Person(\"Иванов\", \"разработчик\", 50000)\n",
        "initial_pay = employee.pay\n",
        "employee.person_raise(20)\n",
        "pay_after_raise = employee.pay\n",
        "print((initial_pay, pay_after_raise))\n"
      ]
    },
    {
      "cell_type": "markdown",
      "metadata": {
        "id": "g5S0h2-wKfGE"
      },
      "source": [
        "## Задание 2"
      ]
    },
    {
      "cell_type": "markdown",
      "metadata": {
        "id": "orX7BUzcPKKf"
      },
      "source": [
        "**Условие:** Создайте класс ```Manager``` наследника класса ```Person```, который имеет дополнительный атрибут данных ```client_counts```(количество клиентов). В классе ```Manager``` создайте метод ```manager_raise()```, который\n",
        "увеличивает количество клиентов менеджера на 1 и зарплату менеджера на 1%. Выведите кортеж с 2мя значениями: (зарплата менеджера при создании, зарплата после добавления 10 клиентов). Замечание: зарплата менеджера должна быть повышена с использованием методов наследуемого класса.\n",
        "\n",
        "**Формат ответа:** кортеж (например, ```(150, 170)```)\n"
      ]
    },
    {
      "cell_type": "markdown",
      "metadata": {
        "id": "ESSLfwqEPKKn"
      },
      "source": [
        "**Решение:**"
      ]
    },
    {
      "cell_type": "code",
      "execution_count": null,
      "metadata": {
        "colab": {
          "base_uri": "https://localhost:8080/"
        },
        "id": "y8HOlaNLPKKq",
        "outputId": "2c29656b-2d80-4bc1-e2c2-ce3f295ccdd1"
      },
      "outputs": [
        {
          "output_type": "stream",
          "name": "stdout",
          "text": [
            "(50000, 55231.10627056024)\n"
          ]
        }
      ],
      "source": [
        "class Person:\n",
        "    def __init__(self, name, age, salary):\n",
        "        self.name = name\n",
        "        self.age = age\n",
        "        self.salary = salary\n",
        "\n",
        "    def display_info(self):\n",
        "        print(f\"Name: {self.name}, Age: {self.age}, Salary: {self.salary}\")\n",
        "\n",
        "\n",
        "class Manager(Person):\n",
        "    def __init__(self, name, age, salary, client_counts=0):\n",
        "        super().__init__(name, age, salary)\n",
        "        self.client_counts = client_counts\n",
        "\n",
        "    def manager_raise(self):\n",
        "        self.client_counts += 1\n",
        "        self.salary *= 1.01\n",
        "\n",
        "    def get_salary_info(self):\n",
        "        return self.salary\n",
        "\n",
        "\n",
        "manager = Manager(\"John\", 30, 50000)\n",
        "initial_salary = manager.get_salary_info()\n",
        "for _ in range(10):\n",
        "    manager.manager_raise()\n",
        "salary_after_raise = manager.get_salary_info()\n",
        "\n",
        "result_tuple = (initial_salary, salary_after_raise)\n",
        "print(result_tuple)\n"
      ]
    },
    {
      "cell_type": "markdown",
      "metadata": {
        "id": "tq0Fcrg1KfXQ"
      },
      "source": [
        "## Задание 3"
      ]
    },
    {
      "cell_type": "markdown",
      "metadata": {
        "id": "3xp-jyyHPMIb"
      },
      "source": [
        "**Условие:** Используя конструктор, создайте класс ```Department``` с атрибутами данных:\n",
        "\n",
        "*   ```name```(название департамента)\n",
        "*   ```chief```(начальник - объект класса ```Person```)\n",
        "*   ```person_list```(список подчиненных - объектов классов ```Person``` и ```Manager```)\n",
        "\n",
        "Создайте департамент с ```5``` менеджерами и ```5``` разнорабочими. Создайте метод класса ```xristmas_tree()```, который выберает ```3``` случайных сотрудников (можно/нужно начальника) и повышает им зарплату на ```30%```. Запустите этот метод ```20``` раз и выведите количество поощренных сотрудников(поощренный - получил надбавку хотя бы один раз).\n",
        "\n",
        "**Формат ответа:** число(например, 3)\n"
      ]
    },
    {
      "cell_type": "markdown",
      "metadata": {
        "id": "H5ZlBsI2PMIi"
      },
      "source": [
        "**Решение:**"
      ]
    },
    {
      "cell_type": "code",
      "execution_count": null,
      "metadata": {
        "colab": {
          "base_uri": "https://localhost:8080/"
        },
        "id": "6amsYUCoPMIn",
        "outputId": "bdc2c4de-c588-42cc-d31b-b51194963542"
      },
      "outputs": [
        {
          "output_type": "stream",
          "name": "stdout",
          "text": [
            "Количество поощренных сотрудников: 60\n"
          ]
        }
      ],
      "source": [
        "import random\n",
        "\n",
        "class Person:\n",
        "    def __init__(self, name, position, salary):\n",
        "        self.name = name\n",
        "        self.position = position\n",
        "        self.salary = salary\n",
        "\n",
        "    def __str__(self):\n",
        "        return f\"{self.position}: {self.name}, Salary: {self.salary}\"\n",
        "\n",
        "class Manager(Person):\n",
        "    pass\n",
        "\n",
        "class Department:\n",
        "    def __init__(self, name, chief, person_list):\n",
        "        self.name = name\n",
        "        self.chief = chief\n",
        "        self.person_list = person_list\n",
        "\n",
        "    def christmas_tree(self):\n",
        "        promoted_count = 0\n",
        "        for _ in range(3):\n",
        "            employee = random.choice([self.chief] + self.person_list)\n",
        "            employee.salary *= 1.3\n",
        "            promoted_count += 1\n",
        "        return promoted_count\n",
        "\n",
        "managers = [Manager(f\"Manager {i+1}\", \"Manager\", 50000) for i in range(5)]\n",
        "workers = [Person(f\"Worker {i+1}\", \"Worker\", 30000) for i in range(5)]\n",
        "chief = Person(\"Chief\", \"Chief\", 70000)\n",
        "dept = Department(\"Sales\", chief, managers + workers)\n",
        "\n",
        "total_promoted = 0\n",
        "for _ in range(20):\n",
        "    total_promoted += dept.christmas_tree()\n",
        "\n",
        "print(f\"Количество поощренных сотрудников: {total_promoted}\")\n"
      ]
    }
  ],
  "metadata": {
    "colab": {
      "provenance": []
    },
    "kernelspec": {
      "display_name": "Python 3 (ipykernel)",
      "language": "python",
      "name": "python3"
    },
    "language_info": {
      "codemirror_mode": {
        "name": "ipython",
        "version": 3
      },
      "file_extension": ".py",
      "mimetype": "text/x-python",
      "name": "python",
      "nbconvert_exporter": "python",
      "pygments_lexer": "ipython3",
      "version": "3.11.7"
    }
  },
  "nbformat": 4,
  "nbformat_minor": 0
}