{
  "cells": [
    {
      "cell_type": "markdown",
      "metadata": {
        "id": "MH-3kVwvJYeP"
      },
      "source": [
        "\n",
        "# 3.2.1 Быстрые поэлементные операции над массивами"
      ]
    },
    {
      "cell_type": "markdown",
      "metadata": {
        "id": "gMwyKhlQJ1mf"
      },
      "source": [
        "## Задание 1"
      ]
    },
    {
      "cell_type": "markdown",
      "metadata": {
        "id": "Owu684lKKrjJ"
      },
      "source": [
        "**Условие:**\n",
        "Создайте произвольный массив ```ndarray``` из 10 элементов типа ```float16```. Присутствие ненулевых дробных частей у элементов обязательно. С использованием методов ```numpy``` отделите дробные части элементов и найдите их среднее значение.\n",
        "\n",
        "**Формат ответа:**\n",
        "Число (например, ```0.2```)\n"
      ]
    },
    {
      "cell_type": "markdown",
      "metadata": {
        "id": "OCTvo3fHLaaJ"
      },
      "source": [
        "**Решение:**"
      ]
    },
    {
      "cell_type": "code",
      "execution_count": null,
      "metadata": {
        "colab": {
          "base_uri": "https://localhost:8080/"
        },
        "id": "f9_8IGndLeRO",
        "outputId": "625106ad-5381-44bb-9ffa-5224eb8a4141"
      },
      "outputs": [
        {
          "output_type": "stream",
          "name": "stdout",
          "text": [
            "Исходный массив:\n",
            "[4.97  8.17  1.124 6.06  7.613 9.45  5.645 4.82  3.562 2.457]\n",
            "\n",
            "Дробные части элементов:\n",
            "[0.9688 0.1719 0.124  0.0586 0.6133 0.4531 0.6445 0.8203 0.5625 0.457 ]\n",
            "\n",
            "Среднее значение дробных частей элементов: 0.4873\n"
          ]
        }
      ],
      "source": [
        "import numpy as np\n",
        "\n",
        "# Создание произвольного массива ndarray из 10 элементов типа float16\n",
        "array = np.random.uniform(low=0.1, high=10, size=10).astype(np.float16)\n",
        "\n",
        "# Вывод созданного массива\n",
        "print(\"Исходный массив:\")\n",
        "print(array)\n",
        "\n",
        "# Отделение дробных частей элементов\n",
        "fractional_parts = np.modf(array)[0]\n",
        "\n",
        "# Вывод дробных частей элементов\n",
        "print(\"\\nДробные части элементов:\")\n",
        "print(fractional_parts)\n",
        "\n",
        "# Нахождение среднего значения дробных частей элементов\n",
        "mean_fractional_parts = np.mean(fractional_parts)\n",
        "\n",
        "# Вывод среднего значения дробных частей элементов\n",
        "print(\"\\nСреднее значение дробных частей элементов:\", mean_fractional_parts)\n"
      ]
    },
    {
      "cell_type": "markdown",
      "metadata": {
        "id": "g5S0h2-wKfGE"
      },
      "source": [
        "## Задание 2"
      ]
    },
    {
      "cell_type": "markdown",
      "metadata": {
        "id": "orX7BUzcPKKf"
      },
      "source": [
        "**Условие:**\n",
        "Создайте два произвольных целочисленных массива ```ndarray``` длины ```10``` и найдите количество позиций, в которых значения первого массива в ```3``` раза больше(не строго) значений второго массива при поэлементном сравнивании.\n",
        "\n",
        "**Формат ответа:**\n",
        "Число (например, ```5```)\n",
        "\n"
      ]
    },
    {
      "cell_type": "markdown",
      "metadata": {
        "id": "ESSLfwqEPKKn"
      },
      "source": [
        "**Решение:**"
      ]
    },
    {
      "cell_type": "code",
      "execution_count": null,
      "metadata": {
        "colab": {
          "base_uri": "https://localhost:8080/"
        },
        "id": "y8HOlaNLPKKq",
        "outputId": "5a541ad1-60b8-4927-8144-0d89ddcd5b4a"
      },
      "outputs": [
        {
          "output_type": "stream",
          "name": "stdout",
          "text": [
            "Первый массив:\n",
            "[47 39 22  0 41 81 77 28 98 27]\n",
            "\n",
            "Второй массив:\n",
            "[92  7 38 97 34 89 61 44 82 28]\n",
            "\n",
            "Количество позиций, где значения первого массива в 3 раза больше значений второго массива: 1\n"
          ]
        }
      ],
      "source": [
        "import numpy as np\n",
        "\n",
        "# Создание двух произвольных целочисленных массивов ndarray длины 10\n",
        "array1 = np.random.randint(0, 100, size=10)\n",
        "array2 = np.random.randint(0, 100, size=10)\n",
        "\n",
        "# Вывод созданных массивов\n",
        "print(\"Первый массив:\")\n",
        "print(array1)\n",
        "print(\"\\nВторой массив:\")\n",
        "print(array2)\n",
        "\n",
        "# Поэлементное сравнение массивов и нахождение количества позиций, где значения первого массива в 3 раза больше значений второго массива\n",
        "count = np.sum(array1 >= 3 * array2)\n",
        "\n",
        "# Вывод количества позиций\n",
        "print(\"\\nКоличество позиций, где значения первого массива в 3 раза больше значений второго массива:\", count)\n"
      ]
    },
    {
      "cell_type": "markdown",
      "metadata": {
        "id": "tq0Fcrg1KfXQ"
      },
      "source": [
        "## Задание 3"
      ]
    },
    {
      "cell_type": "markdown",
      "metadata": {
        "id": "3xp-jyyHPMIb"
      },
      "source": [
        "**Условие:**\n",
        "Создайте массив ```ndarray``` длины ```20``` типа ```float16``` и с использованием методов numpy, найдите среднее и среднеквадратическое отклонение **по формулам**(np.mean и np.std можно использовать только для проверки результатов): для массива $\\{x_i\\}$\n",
        "\n",
        "*   $\\mu = \\frac{1}{n}(x_1 + ... x_n) $\n",
        "*   $\\sigma = \\sqrt{\\frac{1}{n}\\sum_{i=1}^{n}(x_i-\\mu)^2}$\n",
        "\n",
        "**Формат ответа:**\n",
        "Кортеж из 2х чисел (например, ```(3.2, 5.1)```)\n",
        "\n"
      ]
    },
    {
      "cell_type": "markdown",
      "metadata": {
        "id": "H5ZlBsI2PMIi"
      },
      "source": [
        "**Решение:**"
      ]
    },
    {
      "cell_type": "code",
      "execution_count": null,
      "metadata": {
        "colab": {
          "base_uri": "https://localhost:8080/"
        },
        "id": "6amsYUCoPMIn",
        "outputId": "4ab7d411-d69f-4a49-d840-51755297eee4"
      },
      "outputs": [
        {
          "output_type": "stream",
          "name": "stdout",
          "text": [
            "Массив:\n",
            "[4.75    2.432   3.44    8.766   8.04    9.64    0.11426 8.195   6.297\n",
            " 0.8228  5.2     1.57    1.302   8.16    8.45    6.766   5.145   9.03\n",
            " 7.766   9.58   ]\n",
            "\n",
            "Среднее значение (проверка): 5.773\n",
            "Среднеквадратическое отклонение (проверка): 3.088\n",
            "\n",
            "Среднее значение (проверка с использованием np.mean): 5.773\n",
            "Среднеквадратическое отклонение (проверка с использованием np.std): 3.088\n"
          ]
        }
      ],
      "source": [
        "import numpy as np\n",
        "\n",
        "# Создание массива ndarray длины 20 типа float16\n",
        "array = np.random.uniform(low=0.1, high=10, size=20).astype(np.float16)\n",
        "\n",
        "# Вывод созданного массива\n",
        "print(\"Массив:\")\n",
        "print(array)\n",
        "\n",
        "# Нахождение среднего значения\n",
        "mean_value = np.mean(array)\n",
        "\n",
        "# Расчет среднеквадратического отклонения по формуле\n",
        "std_dev = np.sqrt(np.mean((array - mean_value) ** 2))\n",
        "\n",
        "# Вывод результатов\n",
        "print(\"\\nСреднее значение (проверка):\", mean_value)\n",
        "print(\"Среднеквадратическое отклонение (проверка):\", std_dev)\n",
        "\n",
        "# Проверка результатов с использованием np.mean и np.std\n",
        "print(\"\\nСреднее значение (проверка с использованием np.mean):\", np.mean(array))\n",
        "print(\"Среднеквадратическое отклонение (проверка с использованием np.std):\", np.std(array))\n",
        "\n"
      ]
    }
  ],
  "metadata": {
    "colab": {
      "provenance": []
    },
    "kernelspec": {
      "display_name": "Python 3 (ipykernel)",
      "language": "python",
      "name": "python3"
    },
    "language_info": {
      "codemirror_mode": {
        "name": "ipython",
        "version": 3
      },
      "file_extension": ".py",
      "mimetype": "text/x-python",
      "name": "python",
      "nbconvert_exporter": "python",
      "pygments_lexer": "ipython3",
      "version": "3.11.7"
    }
  },
  "nbformat": 4,
  "nbformat_minor": 0
}