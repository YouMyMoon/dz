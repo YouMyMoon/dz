{
  "cells": [
    {
      "cell_type": "markdown",
      "metadata": {
        "id": "MH-3kVwvJYeP"
      },
      "source": [
        "# 2.4 Управляющие структуры. Условные ветвления и циклы"
      ]
    },
    {
      "cell_type": "markdown",
      "metadata": {
        "id": "gMwyKhlQJ1mf"
      },
      "source": [
        "## Задание 1"
      ]
    },
    {
      "cell_type": "markdown",
      "metadata": {
        "id": "Owu684lKKrjJ"
      },
      "source": [
        "**Условие:**\n",
        "Вычислить сумму ряда чисел $1/1^2 + 1/2^2 + 1/3^2 + … + 1/n^2$, где $n$ определяется пользователем. Дайте ответ для $n = 50$. Используйте циклы.\n",
        "\n",
        "**Формат ответа:**\n",
        "Число (например, ```0.75```)\n"
      ]
    },
    {
      "cell_type": "markdown",
      "metadata": {
        "id": "OCTvo3fHLaaJ"
      },
      "source": [
        "**Решение:**"
      ]
    },
    {
      "cell_type": "code",
      "execution_count": null,
      "metadata": {
        "colab": {
          "base_uri": "https://localhost:8080/"
        },
        "id": "f9_8IGndLeRO",
        "outputId": "b71d5e0a-e3c4-4125-e909-9ade98005f45"
      },
      "outputs": [
        {
          "output_type": "stream",
          "name": "stdout",
          "text": [
            "Сумма ряда для n = 50 : 1.625132733621529\n"
          ]
        }
      ],
      "source": [
        "n = 50  # Задаем значение n\n",
        "total_sum = 0\n",
        "\n",
        "for i in range(1, n + 1):\n",
        "    total_sum += 1 / (i ** 2)\n",
        "\n",
        "print(\"Сумма ряда для n =\", n, \":\", total_sum)\n"
      ]
    },
    {
      "cell_type": "markdown",
      "metadata": {
        "id": "g5S0h2-wKfGE"
      },
      "source": [
        "## Задание 2"
      ]
    },
    {
      "cell_type": "markdown",
      "metadata": {
        "id": "orX7BUzcPKKf"
      },
      "source": [
        "**Условие:**\n",
        "Найдите сумму всех натуральных делителей введенного пользователем натурального числа. В ответе укажите результат для числа ```5120```. Используйте циклы и условные выражения.\n",
        "\n",
        "**Формат ответа:** Целое цисло (например, ```75```)"
      ]
    },
    {
      "cell_type": "markdown",
      "metadata": {
        "id": "ESSLfwqEPKKn"
      },
      "source": [
        "**Решение:**"
      ]
    },
    {
      "cell_type": "code",
      "execution_count": null,
      "metadata": {
        "colab": {
          "base_uri": "https://localhost:8080/"
        },
        "id": "y8HOlaNLPKKq",
        "outputId": "d7581758-9a9c-43f0-c22f-da7a1c81db6e"
      },
      "outputs": [
        {
          "output_type": "stream",
          "name": "stdout",
          "text": [
            "56\n",
            "120\n"
          ]
        }
      ],
      "source": [
        "def sum_of_divisors(number):\n",
        "    divisors_sum = 0\n",
        "    for i in range(1, number + 1):\n",
        "        if number % i == 0:\n",
        "            divisors_sum += i\n",
        "    return divisors_sum\n",
        "\n",
        "\n",
        "result = sum_of_divisors(int(input()))\n",
        "print(result)\n"
      ]
    },
    {
      "cell_type": "markdown",
      "metadata": {
        "id": "tq0Fcrg1KfXQ"
      },
      "source": [
        "## Задание 3"
      ]
    },
    {
      "cell_type": "markdown",
      "metadata": {
        "id": "3xp-jyyHPMIb"
      },
      "source": [
        "**Условие:** Создайте игру, в которой пользователь должен угадать заранее случайным образом выбранное целое число от 1 до 10. Используйте модуль ```random``` и цикл ```while```. Не забудьте поставить условие выхода, например, при вводе символа *. Сыграйте с машиной в эту игру 3 раза и укажите среднее значение попыток до успешного угадывания.\n",
        "\n",
        "**Формат ответа:** Число (например, ```7```)\n"
      ]
    },
    {
      "cell_type": "markdown",
      "metadata": {
        "id": "H5ZlBsI2PMIi"
      },
      "source": [
        "**Решение:**"
      ]
    },
    {
      "cell_type": "code",
      "execution_count": null,
      "metadata": {
        "colab": {
          "base_uri": "https://localhost:8080/"
        },
        "id": "6amsYUCoPMIn",
        "outputId": "7e5e5660-20d9-416e-c265-930b10b2fe76"
      },
      "outputs": [
        {
          "output_type": "stream",
          "name": "stdout",
          "text": [
            "Угадайте число от 1 до 10 (или введите * для выхода): 5\n",
            "Загаданное число больше.\n",
            "Угадайте число от 1 до 10 (или введите * для выхода): 8\n",
            "Загаданное число больше.\n",
            "Угадайте число от 1 до 10 (или введите * для выхода): 9\n",
            "Загаданное число больше.\n",
            "Угадайте число от 1 до 10 (или введите * для выхода): 10\n",
            "Поздравляю! Вы угадали число 10 за 4 попыток.\n",
            "Угадайте число от 1 до 10 (или введите * для выхода): 5\n",
            "Загаданное число меньше.\n",
            "Угадайте число от 1 до 10 (или введите * для выхода): 2\n",
            "Поздравляю! Вы угадали число 2 за 2 попыток.\n",
            "Угадайте число от 1 до 10 (или введите * для выхода): *\n",
            "Выход из игры.\n",
            "Среднее количество попыток: 2.00\n"
          ]
        }
      ],
      "source": [
        "import random\n",
        "\n",
        "def guess_number():\n",
        "    target_number = random.randint(1, 10)\n",
        "    attempts = 0\n",
        "    while True:\n",
        "        guess = input(\"Угадайте число от 1 до 10 (или введите * для выхода): \")\n",
        "        if guess == '*':\n",
        "            print(\"Выход из игры.\")\n",
        "            return None\n",
        "        try:\n",
        "            guess = int(guess)\n",
        "            attempts += 1\n",
        "            if guess < 1 or guess > 10:\n",
        "                print(\"Пожалуйста, введите число от 1 до 10.\")\n",
        "            elif guess < target_number:\n",
        "                print(\"Загаданное число больше.\")\n",
        "            elif guess > target_number:\n",
        "                print(\"Загаданное число меньше.\")\n",
        "            else:\n",
        "                print(\"Поздравляю! Вы угадали число {} за {} попыток.\".format(target_number, attempts))\n",
        "                return attempts\n",
        "        except ValueError:\n",
        "            print(\"Пожалуйста, введите целое число.\")\n",
        "\n",
        "total_attempts = 0\n",
        "for _ in range(3):\n",
        "    attempts = guess_number()\n",
        "    if attempts is not None:\n",
        "        total_attempts += attempts\n",
        "\n",
        "if total_attempts > 0:\n",
        "    average_attempts = total_attempts / 3\n",
        "    print(\"Среднее количество попыток: {:.2f}\".format(average_attempts))\n",
        "else:\n",
        "    print(\"Вы не сыграли ни одной игры.\")\n"
      ]
    }
  ],
  "metadata": {
    "colab": {
      "provenance": []
    },
    "kernelspec": {
      "display_name": "Python 3 (ipykernel)",
      "language": "python",
      "name": "python3"
    },
    "language_info": {
      "codemirror_mode": {
        "name": "ipython",
        "version": 3
      },
      "file_extension": ".py",
      "mimetype": "text/x-python",
      "name": "python",
      "nbconvert_exporter": "python",
      "pygments_lexer": "ipython3",
      "version": "3.11.7"
    }
  },
  "nbformat": 4,
  "nbformat_minor": 0
}