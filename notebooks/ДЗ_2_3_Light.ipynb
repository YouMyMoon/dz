{
  "cells": [
    {
      "cell_type": "markdown",
      "metadata": {
        "id": "MH-3kVwvJYeP"
      },
      "source": [
        "# 2.3 Типы коллекций. Последовательности, множества, отображения"
      ]
    },
    {
      "cell_type": "markdown",
      "metadata": {
        "id": "gMwyKhlQJ1mf"
      },
      "source": [
        "## Задание 1"
      ]
    },
    {
      "cell_type": "markdown",
      "metadata": {
        "id": "Owu684lKKrjJ"
      },
      "source": [
        "**Условие:**\n",
        "Создайте кортеж из ```10```  произвольных значений. Выведите элементы кортежа по целым положительным индексам и по целым отрицательным индексам.\n"
      ]
    },
    {
      "cell_type": "markdown",
      "metadata": {
        "id": "OCTvo3fHLaaJ"
      },
      "source": [
        "**Решение:**"
      ]
    },
    {
      "cell_type": "code",
      "execution_count": null,
      "metadata": {
        "colab": {
          "base_uri": "https://localhost:8080/"
        },
        "id": "f9_8IGndLeRO",
        "outputId": "ebef695a-28f8-4d45-cafb-8c19bf9be960"
      },
      "outputs": [
        {
          "output_type": "stream",
          "name": "stdout",
          "text": [
            "Индекс 0 : 5\n",
            "Индекс 1 : 10\n",
            "Индекс 2 : 15\n",
            "Индекс 3 : 20\n",
            "Индекс 4 : 25\n",
            "Индекс 5 : 30\n",
            "Индекс 6 : 35\n",
            "Индекс 7 : 40\n",
            "Индекс 8 : 45\n",
            "Индекс 9 : 50\n",
            "Индекс -1 : 50\n",
            "Индекс -2 : 45\n",
            "Индекс -3 : 40\n",
            "Индекс -4 : 35\n",
            "Индекс -5 : 30\n",
            "Индекс -6 : 25\n",
            "Индекс -7 : 20\n",
            "Индекс -8 : 15\n",
            "Индекс -9 : 10\n",
            "Индекс -10 : 5\n"
          ]
        }
      ],
      "source": [
        "# Создание кортежа из 10 произвольных значений\n",
        "my_tuple = (5, 10, 15, 20, 25, 30, 35, 40, 45, 50)\n",
        "\n",
        "# Вывод элементов по целым положительным индексам\n",
        "for i in range(len(my_tuple)):\n",
        "    print(\"Индекс\", i, \":\", my_tuple[i])\n",
        "\n",
        "# Вывод элементов по целым отрицательным индексам\n",
        "for i in range(-1, -len(my_tuple) - 1, -1):\n",
        "    print(\"Индекс\", i, \":\", my_tuple[i])\n",
        "\n"
      ]
    },
    {
      "cell_type": "markdown",
      "metadata": {
        "id": "g5S0h2-wKfGE"
      },
      "source": [
        "## Задание 2"
      ]
    },
    {
      "cell_type": "markdown",
      "metadata": {
        "id": "orX7BUzcPKKf"
      },
      "source": [
        "**Условие:**\n",
        "Создайте список из ```10``` последовательных чисел. Прибавьте ```1``` к значениям списка, проходя по нему в цикле."
      ]
    },
    {
      "cell_type": "markdown",
      "metadata": {
        "id": "ESSLfwqEPKKn"
      },
      "source": [
        "**Решение:**"
      ]
    },
    {
      "cell_type": "code",
      "execution_count": null,
      "metadata": {
        "colab": {
          "base_uri": "https://localhost:8080/"
        },
        "id": "y8HOlaNLPKKq",
        "outputId": "75f9ed7c-d166-42e7-df67-0216889a9600"
      },
      "outputs": [
        {
          "output_type": "stream",
          "name": "stdout",
          "text": [
            "[2, 3, 4, 5, 6, 7, 8, 9, 10, 11]\n"
          ]
        }
      ],
      "source": [
        "# Создаем список из 10 последовательных чисел\n",
        "numbers = list(range(1, 11))\n",
        "\n",
        "# Прибавляем 1 к каждому значению списка, проходя по нему в цикле\n",
        "for i in range(len(numbers)):\n",
        "    numbers[i] += 1\n",
        "\n",
        "# Выводим измененный список\n",
        "print(numbers)\n",
        "\n"
      ]
    },
    {
      "cell_type": "markdown",
      "metadata": {
        "id": "tq0Fcrg1KfXQ"
      },
      "source": [
        "## Задание 3"
      ]
    },
    {
      "cell_type": "markdown",
      "metadata": {
        "id": "3xp-jyyHPMIb"
      },
      "source": [
        "**Условие:**\n",
        "Создайте словарь из ```5``` сотрудников, где ключ - это имя сотрудника, а значение - его заработная плата.\n"
      ]
    },
    {
      "cell_type": "markdown",
      "metadata": {
        "id": "H5ZlBsI2PMIi"
      },
      "source": [
        "**Решение:**"
      ]
    },
    {
      "cell_type": "code",
      "execution_count": null,
      "metadata": {
        "colab": {
          "base_uri": "https://localhost:8080/"
        },
        "id": "6amsYUCoPMIn",
        "outputId": "40fb76e2-4fc0-4c13-90cf-04721482f96d"
      },
      "outputs": [
        {
          "output_type": "stream",
          "name": "stdout",
          "text": [
            "{'Иван': 50000, 'Мария': 55000, 'Петр': 60000, 'Анна': 52000, 'Алексей': 58000}\n"
          ]
        }
      ],
      "source": [
        "employee_salaries = {\n",
        "    \"Иван\": 50000,\n",
        "    \"Мария\": 55000,\n",
        "    \"Петр\": 60000,\n",
        "    \"Анна\": 52000,\n",
        "    \"Алексей\": 58000\n",
        "}\n",
        "print(employee_salaries)"
      ]
    }
  ],
  "metadata": {
    "colab": {
      "provenance": []
    },
    "kernelspec": {
      "display_name": "Python 3 (ipykernel)",
      "language": "python",
      "name": "python3"
    },
    "language_info": {
      "codemirror_mode": {
        "name": "ipython",
        "version": 3
      },
      "file_extension": ".py",
      "mimetype": "text/x-python",
      "name": "python",
      "nbconvert_exporter": "python",
      "pygments_lexer": "ipython3",
      "version": "3.11.7"
    }
  },
  "nbformat": 4,
  "nbformat_minor": 0
}