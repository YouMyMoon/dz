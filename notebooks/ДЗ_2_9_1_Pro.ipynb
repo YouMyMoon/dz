{
  "cells": [
    {
      "cell_type": "markdown",
      "metadata": {
        "id": "MH-3kVwvJYeP"
      },
      "source": [
        "# 2.9.1 Математические вычисления и числа, типы коллекций"
      ]
    },
    {
      "cell_type": "markdown",
      "metadata": {
        "id": "gMwyKhlQJ1mf"
      },
      "source": [
        "## Задание 1"
      ]
    },
    {
      "cell_type": "markdown",
      "metadata": {
        "id": "Owu684lKKrjJ"
      },
      "source": [
        "**Условие:**\n",
        "Используя методы модуля ```cmath```, найти значения $\\exp^{{j*2\\pi k}/{n}}$ для всех целых $k$ от $1$ до $20$ и $n=4$ ($j$ - мнимая единица). Найдите количество различных элементов при условии округления действительной и мнимой частей до целого.\n",
        "\n",
        "**Формат ответа:**\n",
        "Число (например, ```2```)"
      ]
    },
    {
      "cell_type": "markdown",
      "metadata": {
        "id": "OCTvo3fHLaaJ"
      },
      "source": [
        "**Решение:**"
      ]
    },
    {
      "cell_type": "code",
      "execution_count": null,
      "metadata": {
        "colab": {
          "base_uri": "https://localhost:8080/"
        },
        "id": "f9_8IGndLeRO",
        "outputId": "8d079410-4e9a-4b4f-9879-ec550bb05bb1"
      },
      "outputs": [
        {
          "output_type": "stream",
          "name": "stdout",
          "text": [
            "4\n"
          ]
        }
      ],
      "source": [
        "import cmath\n",
        "\n",
        "n = 4\n",
        "j = complex(0, 1)\n",
        "\n",
        "unique_elements = set()\n",
        "for k in range(1, 21):\n",
        "    angle = 2 * cmath.pi * k / n\n",
        "    result = cmath.exp(j * angle)\n",
        "\n",
        "\n",
        "    rounded_real = round(result.real)\n",
        "    rounded_imaginary = round(result.imag)\n",
        "    unique_elements.add(complex(rounded_real, rounded_imaginary))\n",
        "\n",
        "print(len(unique_elements))"
      ]
    },
    {
      "cell_type": "markdown",
      "metadata": {
        "id": "g5S0h2-wKfGE"
      },
      "source": [
        "## Задание 2"
      ]
    },
    {
      "cell_type": "markdown",
      "metadata": {
        "id": "orX7BUzcPKKf"
      },
      "source": [
        "**Условие:**\n",
        "Используя ```Counter``` из модуля ```collections```, найдите частоты встречаемости букв в тексте решения. Укажите наиболее частую букву.\n",
        "\n",
        "**Формат ответа:** строка (например, ```('а')```)\n",
        "\n",
        "**Оценка в баллах:** 3"
      ]
    },
    {
      "cell_type": "markdown",
      "metadata": {
        "id": "ESSLfwqEPKKn"
      },
      "source": [
        "**Решение:**"
      ]
    },
    {
      "cell_type": "code",
      "execution_count": null,
      "metadata": {
        "id": "y8HOlaNLPKKq"
      },
      "outputs": [],
      "source": [
        "solution_text ='''Мы жили и живем в режиме постоянных изменений и экспериментов: АВ-тесты, проверка различных гипотез. Запускаем новые сервисы, потом, если что-то не работает, выпиливаем.\n",
        "Когда-то у нас был монолит на РНР, который приносил много боли и страдания. Чтобы обеспечить приемлемый time-to-market, мы пошли типичным путем — стали пилить этот монолит на микросервисы. В итоге получилось, что большой монолит превратился во много маленьких монолитов. Это нормально, так происходит у всех, кто сталкивался с подобной задачей.\n",
        "Затем мы начали пробовать другие технологии, в частности у нас появился Golang, он в дальнейшем стал основным языком разработки. Встали вопросы: как это все разрабатывать, тестировать и развертывать? Ответ был очевиден — нужен dev-сервер. У каждого разработчика должен быть dev-сервер, куда он сможет подсоединяться, чтобы писать там качественный и высокопроизводительный код.'''"
      ]
    },
    {
      "cell_type": "code",
      "source": [
        "from collections import Counter\n",
        "\n",
        "\n",
        "solution_text = solution_text.lower()\n",
        "\n",
        "\n",
        "solution_text = ''.join(filter(str.isalpha, solution_text))\n",
        "\n",
        "\n",
        "letter_frequencies = Counter(solution_text)\n",
        "\n",
        "most_common_letter = letter_frequencies.most_common(1)[0][0]\n",
        "\n",
        "print(\"Наиболее частая буква:\", most_common_letter)\n"
      ],
      "metadata": {
        "colab": {
          "base_uri": "https://localhost:8080/"
        },
        "id": "vwuDE6toSfPq",
        "outputId": "e4629470-f554-45f1-d1a9-df126f61e647"
      },
      "execution_count": null,
      "outputs": [
        {
          "output_type": "stream",
          "name": "stdout",
          "text": [
            "Наиболее частая буква: о\n"
          ]
        }
      ]
    }
  ],
  "metadata": {
    "colab": {
      "provenance": []
    },
    "kernelspec": {
      "display_name": "Python 3 (ipykernel)",
      "language": "python",
      "name": "python3"
    },
    "language_info": {
      "codemirror_mode": {
        "name": "ipython",
        "version": 3
      },
      "file_extension": ".py",
      "mimetype": "text/x-python",
      "name": "python",
      "nbconvert_exporter": "python",
      "pygments_lexer": "ipython3",
      "version": "3.11.7"
    }
  },
  "nbformat": 4,
  "nbformat_minor": 0
}