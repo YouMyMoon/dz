{
  "cells": [
    {
      "cell_type": "markdown",
      "metadata": {
        "id": "MH-3kVwvJYeP"
      },
      "source": [
        "\n",
        "# 3.2.1 Быстрые поэлементные операции над массивами"
      ]
    },
    {
      "cell_type": "markdown",
      "metadata": {
        "id": "gMwyKhlQJ1mf"
      },
      "source": [
        "## Задание 1"
      ]
    },
    {
      "cell_type": "markdown",
      "metadata": {
        "id": "Owu684lKKrjJ"
      },
      "source": [
        "**Условие:**\n",
        "Создайте два произвольных целочисленных массива ```ndarray``` длины ```10``` и найдите поэлементную сумму их значений. Среди полученных значений найдите максимальное с использованием функции ```np.max()```.\n",
        "\n",
        "**Формат ответа:**\n",
        "Число (например, ```150```)\n"
      ]
    },
    {
      "cell_type": "markdown",
      "metadata": {
        "id": "OCTvo3fHLaaJ"
      },
      "source": [
        "**Решение:**"
      ]
    },
    {
      "cell_type": "code",
      "execution_count": null,
      "metadata": {
        "colab": {
          "base_uri": "https://localhost:8080/"
        },
        "id": "f9_8IGndLeRO",
        "outputId": "9ad8fe07-1ca4-4ec4-bd0e-b5eee646f199"
      },
      "outputs": [
        {
          "output_type": "stream",
          "name": "stdout",
          "text": [
            "Первый массив: [30  9 75 42 44 82 80 88 55 57]\n",
            "Второй массив: [61  2  7 65 46 24 69 56 15 23]\n",
            "Поэлементная сумма массивов: [ 91  11  82 107  90 106 149 144  70  80]\n",
            "Максимальное значение среди полученных: 149\n"
          ]
        }
      ],
      "source": [
        "import numpy as np\n",
        "\n",
        "# Создание двух произвольных массивов ndarray длины 10\n",
        "array1 = np.random.randint(0, 100, size=10)\n",
        "array2 = np.random.randint(0, 100, size=10)\n",
        "\n",
        "# Нахождение поэлементной суммы значений массивов\n",
        "sum_array = array1 + array2\n",
        "\n",
        "# Нахождение максимального значения среди полученных\n",
        "max_value = np.max(sum_array)\n",
        "\n",
        "# Вывод результатов\n",
        "print(\"Первый массив:\", array1)\n",
        "print(\"Второй массив:\", array2)\n",
        "print(\"Поэлементная сумма массивов:\", sum_array)\n",
        "print(\"Максимальное значение среди полученных:\", max_value)\n"
      ]
    },
    {
      "cell_type": "markdown",
      "metadata": {
        "id": "g5S0h2-wKfGE"
      },
      "source": [
        "## Задание 2"
      ]
    },
    {
      "cell_type": "markdown",
      "metadata": {
        "id": "orX7BUzcPKKf"
      },
      "source": [
        "**Условие:**\n",
        "Создайте произвольный массив ```ndarray``` из 10 элементов типа ```float16```. Присутствие ненулевых дробных частей у элементов обязательно. С использованием методов ```numpy``` отделите дробные части элементов и найдите среди них максимальное значение.\n",
        "\n",
        "**Формат ответа:**\n",
        "Число (например, ```0.82```)\n",
        "\n"
      ]
    },
    {
      "cell_type": "markdown",
      "metadata": {
        "id": "ESSLfwqEPKKn"
      },
      "source": [
        "**Решение:**"
      ]
    },
    {
      "cell_type": "code",
      "execution_count": null,
      "metadata": {
        "colab": {
          "base_uri": "https://localhost:8080/"
        },
        "id": "y8HOlaNLPKKq",
        "outputId": "f9a6557c-31fc-4e7e-abef-cde07e8ea182"
      },
      "outputs": [
        {
          "output_type": "stream",
          "name": "stdout",
          "text": [
            "Исходный массив:\n",
            "[1.695  0.1449 4.652  8.195  1.667  7.727  1.394  4.406  6.414  5.496 ]\n",
            "\n",
            "Дробные части элементов:\n",
            "[0.6953 0.1449 0.6523 0.1953 0.667  0.7266 0.3936 0.4062 0.414  0.496 ]\n",
            "\n",
            "Максимальное значение среди дробных частей элементов: 0.7266\n"
          ]
        }
      ],
      "source": [
        "import numpy as np\n",
        "\n",
        "# Создание произвольного массива ndarray из 10 элементов типа float16\n",
        "array = np.random.uniform(low=0.1, high=10, size=10).astype(np.float16)\n",
        "\n",
        "# Вывод созданного массива\n",
        "print(\"Исходный массив:\")\n",
        "print(array)\n",
        "\n",
        "# Отделение дробных частей элементов\n",
        "fractional_parts = np.modf(array)[0]\n",
        "\n",
        "# Вывод дробных частей элементов\n",
        "print(\"\\nДробные части элементов:\")\n",
        "print(fractional_parts)\n",
        "\n",
        "# Нахождение максимального значения среди дробных частей элементов\n",
        "max_fractional_part = np.max(fractional_parts)\n",
        "\n",
        "# Вывод максимального значения среди дробных частей элементов\n",
        "print(\"\\nМаксимальное значение среди дробных частей элементов:\", max_fractional_part)"
      ]
    },
    {
      "cell_type": "markdown",
      "metadata": {
        "id": "tq0Fcrg1KfXQ"
      },
      "source": [
        "## Задание 3"
      ]
    },
    {
      "cell_type": "markdown",
      "metadata": {
        "id": "3xp-jyyHPMIb"
      },
      "source": [
        "**Условие:**\n",
        "Создайте два произвольных целочисленных массива ```ndarray``` длины ```10``` и найдите количество позиций, в которых значения массивов не совпадают при поэлементном сравнивании.\n",
        "\n",
        "**Формат ответа:**\n",
        "Число (например, ```5```)\n",
        "\n",
        "\n"
      ]
    },
    {
      "cell_type": "markdown",
      "metadata": {
        "id": "H5ZlBsI2PMIi"
      },
      "source": [
        "**Решение:**"
      ]
    },
    {
      "cell_type": "code",
      "execution_count": null,
      "metadata": {
        "id": "6amsYUCoPMIn"
      },
      "outputs": [],
      "source": [
        "import numpy as np\n",
        "\n",
        "# Создание двух произвольных целочисленных массивов ndarray длины 10\n",
        "array1 = np.random.randint(0, 10, size=10)\n",
        "array2 = np.random.randint(0, 10, size=10)\n",
        "\n",
        "# Вывод созданных массивов\n",
        "print(\"Первый массив:\")\n",
        "print(array1)\n",
        "print(\"\\nВторой массив:\")\n",
        "print(array2)\n",
        "\n",
        "# Поэлементное сравнение массивов и нахождение количества несовпадающих значений\n",
        "unequal_positions = np.sum(array1 != array2)\n",
        "\n",
        "# Вывод количества несовпадающих значений\n",
        "print(\"\\nКоличество позиций с несовпадающими значениями:\", unequal_positions)\n"
      ]
    }
  ],
  "metadata": {
    "colab": {
      "provenance": []
    },
    "kernelspec": {
      "display_name": "Python 3 (ipykernel)",
      "language": "python",
      "name": "python3"
    },
    "language_info": {
      "codemirror_mode": {
        "name": "ipython",
        "version": 3
      },
      "file_extension": ".py",
      "mimetype": "text/x-python",
      "name": "python",
      "nbconvert_exporter": "python",
      "pygments_lexer": "ipython3",
      "version": "3.11.7"
    }
  },
  "nbformat": 4,
  "nbformat_minor": 0
}