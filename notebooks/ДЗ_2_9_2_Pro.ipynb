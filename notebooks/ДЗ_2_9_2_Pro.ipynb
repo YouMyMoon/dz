{
  "cells": [
    {
      "cell_type": "markdown",
      "metadata": {
        "id": "MH-3kVwvJYeP"
      },
      "source": [
        "# 2.9.2 Работа с аргументами командной строки, время и дата"
      ]
    },
    {
      "cell_type": "markdown",
      "metadata": {
        "id": "gMwyKhlQJ1mf"
      },
      "source": [
        "## Задание 1"
      ]
    },
    {
      "cell_type": "markdown",
      "metadata": {
        "id": "Owu684lKKrjJ"
      },
      "source": [
        "**Условие:**\n",
        "Методами библиотеки ```datetime``` найти количество високосных годов с начала Unix эпохи и по настоящий момент.\n",
        "\n",
        "**Формат ответа:**\n",
        "Число (например, ```2```)\n"
      ]
    },
    {
      "cell_type": "markdown",
      "metadata": {
        "id": "OCTvo3fHLaaJ"
      },
      "source": [
        "**Решение:**"
      ]
    },
    {
      "cell_type": "code",
      "execution_count": null,
      "metadata": {
        "colab": {
          "base_uri": "https://localhost:8080/"
        },
        "id": "f9_8IGndLeRO",
        "outputId": "ff0e59bf-6e61-4ea9-80f1-060f452feff1"
      },
      "outputs": [
        {
          "output_type": "stream",
          "name": "stdout",
          "text": [
            "Количество високосных годов с начала Unix эпохи и по настоящий момент: 14\n"
          ]
        }
      ],
      "source": [
        "from datetime import datetime\n",
        "\n",
        "\n",
        "start_date = datetime(1970, 1, 1)\n",
        "current_date = datetime.now()\n",
        "leap_years_count = 0\n",
        "\n",
        "for year in range(start_date.year, current_date.year + 1):\n",
        "    if year % 4 == 0 and (year % 100 != 0 or year % 400 == 0):\n",
        "        leap_years_count += 1\n",
        "\n",
        "print(\"Количество високосных годов с начала Unix эпохи и по настоящий момент:\", leap_years_count)\n"
      ]
    },
    {
      "cell_type": "markdown",
      "metadata": {
        "id": "g5S0h2-wKfGE"
      },
      "source": [
        "## Задание 2"
      ]
    },
    {
      "cell_type": "markdown",
      "metadata": {
        "id": "orX7BUzcPKKf"
      },
      "source": [
        "**Условие:**\n",
        "Методами библиотеки ```datetime``` найдите название дня недели, в который вы родились. Посчитайте также количество секунд, которые вы провели на этой планете до ```01.01.2020```.\n",
        "\n",
        "**Формат ответа:** кортеж (например, ```('monday',123213875)```)\n"
      ]
    },
    {
      "cell_type": "markdown",
      "metadata": {
        "id": "ESSLfwqEPKKn"
      },
      "source": [
        "**Решение:**"
      ]
    },
    {
      "cell_type": "code",
      "execution_count": null,
      "metadata": {
        "colab": {
          "base_uri": "https://localhost:8080/"
        },
        "id": "y8HOlaNLPKKq",
        "outputId": "a2570654-fafd-4dc5-d08d-1e39c50b6ea1"
      },
      "outputs": [
        {
          "output_type": "stream",
          "name": "stdout",
          "text": [
            "Вы родились в Sunday\n",
            "Количество секунд, проведенных на этой планете до 01.01.2020: 580262400.0\n"
          ]
        }
      ],
      "source": [
        "from datetime import datetime, timedelta\n",
        "\n",
        "birthdate = datetime(2001, 8, 12)\n",
        "\n",
        "day_of_week = birthdate.strftime(\"%A\")\n",
        "\n",
        "print(\"Вы родились в\", day_of_week)\n",
        "\n",
        "date_2020 = datetime(2020, 1, 1)\n",
        "time_spent = date_2020 - birthdate\n",
        "\n",
        "seconds_spent = time_spent.total_seconds()\n",
        "\n",
        "print(\"Количество секунд, проведенных на этой планете до 01.01.2020:\", seconds_spent)\n"
      ]
    }
  ],
  "metadata": {
    "colab": {
      "provenance": []
    },
    "kernelspec": {
      "display_name": "Python 3 (ipykernel)",
      "language": "python",
      "name": "python3"
    },
    "language_info": {
      "codemirror_mode": {
        "name": "ipython",
        "version": 3
      },
      "file_extension": ".py",
      "mimetype": "text/x-python",
      "name": "python",
      "nbconvert_exporter": "python",
      "pygments_lexer": "ipython3",
      "version": "3.11.7"
    }
  },
  "nbformat": 4,
  "nbformat_minor": 0
}