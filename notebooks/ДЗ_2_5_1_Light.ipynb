{
  "cells": [
    {
      "cell_type": "markdown",
      "metadata": {
        "id": "MH-3kVwvJYeP"
      },
      "source": [
        "# 2.5.1 Основы написания функций"
      ]
    },
    {
      "cell_type": "markdown",
      "metadata": {
        "id": "gMwyKhlQJ1mf"
      },
      "source": [
        "## Задание 1"
      ]
    },
    {
      "cell_type": "markdown",
      "metadata": {
        "id": "Owu684lKKrjJ"
      },
      "source": [
        "**Условие:**\n",
        "Напишите глобальную функцию ```mult_str()```, которая в качестве параметров принимает строковую переменную ```input_str``` и натуральный мультипликативный множитель ```n```, а возвращает строку, в которой повторяется  ```input_str``` ровно ```n``` раз через пробел ```' '```. Найти значение ```mult_str()``` для ```input_str = 'KuKu'``` и ```n = 10```.\n",
        "\n",
        "**Формат ответа:**\n",
        "Строка (например, вместо ```'Your answer1'``` пишем ```'KuKu KuK'```)\n",
        "\n"
      ]
    },
    {
      "cell_type": "markdown",
      "metadata": {
        "id": "OCTvo3fHLaaJ"
      },
      "source": [
        "**Решение:**"
      ]
    },
    {
      "cell_type": "code",
      "execution_count": null,
      "metadata": {
        "colab": {
          "base_uri": "https://localhost:8080/"
        },
        "id": "f9_8IGndLeRO",
        "outputId": "f262e56b-36f7-4f97-926e-d0c8535d0e7d"
      },
      "outputs": [
        {
          "output_type": "stream",
          "name": "stdout",
          "text": [
            "KuKu KuKu KuKu KuKu KuKu KuKu KuKu KuKu KuKu KuKu\n"
          ]
        }
      ],
      "source": [
        "def mult_str(input_str, n):\n",
        "    return ' '.join([input_str] * n)\n",
        "\n",
        "input_str = 'KuKu'\n",
        "n = 10\n",
        "result = mult_str(input_str, n)\n",
        "print(result)\n"
      ]
    },
    {
      "cell_type": "markdown",
      "metadata": {
        "id": "cv6HbXXwLoE5"
      },
      "source": [
        "## Задание 2"
      ]
    },
    {
      "cell_type": "markdown",
      "metadata": {
        "id": "VhMotGPILoFK"
      },
      "source": [
        "**Условие:**\n",
        "Напишите функцию ```prod()```, которая может принимать на вход любое количество чисел и возвращает кортеж значений (произведение чисел, количество чисел). Напишите строку документации к вашей функции. В ответе укажите результат работы функции для ```prod(1.74, 2, 18)```.\n",
        "\n",
        "**Формат ответа:**\n",
        "Кортеж чисел (например, ```(25.4, 8)```)\n"
      ]
    },
    {
      "cell_type": "markdown",
      "metadata": {
        "id": "E1S7s9MKLoFR"
      },
      "source": [
        "**Решение:**"
      ]
    },
    {
      "cell_type": "code",
      "execution_count": null,
      "metadata": {
        "colab": {
          "base_uri": "https://localhost:8080/"
        },
        "id": "XA_K_sTVLoFV",
        "outputId": "d5765c84-99aa-495e-9345-627208589404"
      },
      "outputs": [
        {
          "output_type": "stream",
          "name": "stdout",
          "text": [
            "(62.64, 3)\n"
          ]
        }
      ],
      "source": [
        "def prod(*args):\n",
        "    product = 1\n",
        "    for num in args:\n",
        "        product *= num\n",
        "    return product, len(args)\n",
        "\n",
        "\n",
        "print(prod(1.74, 2, 18))\n"
      ]
    }
  ],
  "metadata": {
    "colab": {
      "provenance": []
    },
    "kernelspec": {
      "display_name": "Python 3 (ipykernel)",
      "language": "python",
      "name": "python3"
    },
    "language_info": {
      "codemirror_mode": {
        "name": "ipython",
        "version": 3
      },
      "file_extension": ".py",
      "mimetype": "text/x-python",
      "name": "python",
      "nbconvert_exporter": "python",
      "pygments_lexer": "ipython3",
      "version": "3.11.7"
    }
  },
  "nbformat": 4,
  "nbformat_minor": 0
}