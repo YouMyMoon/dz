{
  "cells": [
    {
      "cell_type": "markdown",
      "metadata": {
        "id": "MH-3kVwvJYeP"
      },
      "source": [
        "# 2.8.2 Создание собственных классов"
      ]
    },
    {
      "cell_type": "markdown",
      "metadata": {
        "id": "gMwyKhlQJ1mf"
      },
      "source": [
        "## Задание 1"
      ]
    },
    {
      "cell_type": "markdown",
      "metadata": {
        "id": "Owu684lKKrjJ"
      },
      "source": [
        "**Условие:** Создайте собственный класс ```Person``` работника компании. Добавьте следующие атрибуты данных, использую конструктор ```__init__```:\n",
        "\n",
        "*   ```name```(фамилия)\n",
        "*   ```job```(должность)\n",
        "*   ```pai```(зарплата)\n",
        "\n",
        "Создайте метод класса ```person_raise(self, prcnt)```, который повышает зарплату на ```prcnt``` процентов от имеющегося значения. Создайте работника и выведите кортеж с 2мя значениями: (зарплата при создании работника, зарплата после повышения на 20%)\n",
        "\n",
        "**Формат ответа:** кортеж (например, ```(150, 200)```)"
      ]
    },
    {
      "cell_type": "markdown",
      "metadata": {
        "id": "5Hn_9GGPHtor"
      },
      "source": [
        "**Решение:**"
      ]
    },
    {
      "cell_type": "code",
      "execution_count": null,
      "metadata": {
        "colab": {
          "base_uri": "https://localhost:8080/"
        },
        "id": "8LbDasQEHtor",
        "outputId": "d4cba526-f8c6-4f16-c12e-d75e2706f3e6"
      },
      "outputs": [
        {
          "output_type": "stream",
          "name": "stdout",
          "text": [
            "(50000.0, 60000.0)\n"
          ]
        }
      ],
      "source": [
        "class Person:\n",
        "    def __init__(self, name, job, pay):\n",
        "        self.name = name\n",
        "        self.job = job\n",
        "        self.pay = pay\n",
        "\n",
        "    def person_raise(self, prcnt):\n",
        "        self.pay *= (1 + prcnt / 100)\n",
        "\n",
        "employee = Person(\"Иванов\", \"менеджер\", 50000)\n",
        "employee.person_raise(20)\n",
        "\n",
        "initial_pay = employee.pay / 1.2\n",
        "increased_pay = employee.pay\n",
        "result_tuple = (initial_pay, increased_pay)\n",
        "\n",
        "print(result_tuple)\n"
      ]
    },
    {
      "cell_type": "markdown",
      "metadata": {
        "id": "g5S0h2-wKfGE"
      },
      "source": [
        "## Задание 2"
      ]
    },
    {
      "cell_type": "markdown",
      "metadata": {
        "id": "orX7BUzcPKKf"
      },
      "source": [
        "**Условие:** Создайте класс ```Manager``` наследника класса ```Person```, который имеет дополнительный атрибут данных ```client_counts```(количество клиентов). В классе ```Manager``` создайте метод ```manager_raise()```, который\n",
        "увеличивает количество клиентов менеджера на 1 и зарплату менеджера на 1%. Выведите кортеж с 2мя значениями: (зарплата менеджера при создании, зарплата после добавления 10 клиентов). Замечание: зарплата менеджера должна быть повышена с использованием методов наследуемого класса.\n",
        "\n",
        "**Формат ответа:** кортеж (например, ```(150, 170)```)\n"
      ]
    },
    {
      "cell_type": "markdown",
      "metadata": {
        "id": "ESSLfwqEPKKn"
      },
      "source": [
        "**Решение:**"
      ]
    },
    {
      "cell_type": "code",
      "execution_count": null,
      "metadata": {
        "colab": {
          "base_uri": "https://localhost:8080/"
        },
        "id": "y8HOlaNLPKKq",
        "outputId": "31be8a4c-ea5c-4702-9489-60409079c719"
      },
      "outputs": [
        {
          "output_type": "stream",
          "name": "stdout",
          "text": [
            "(50000, 55231.10627056024)\n"
          ]
        }
      ],
      "source": [
        "class Person:\n",
        "    def __init__(self, name, age, salary):\n",
        "        self.name = name\n",
        "        self.age = age\n",
        "        self.salary = salary\n",
        "\n",
        "    def display_info(self):\n",
        "        print(f\"Name: {self.name}, Age: {self.age}, Salary: {self.salary}\")\n",
        "\n",
        "\n",
        "class Manager(Person):\n",
        "    def __init__(self, name, age, salary, client_counts=0):\n",
        "        super().__init__(name, age, salary)\n",
        "        self.client_counts = client_counts\n",
        "\n",
        "    def manager_raise(self):\n",
        "        self.client_counts += 1\n",
        "        self.salary *= 1.01  # Increase salary by 1%\n",
        "\n",
        "    def get_salary_info(self):\n",
        "        return self.salary\n",
        "\n",
        "\n",
        "\n",
        "manager = Manager(\"John\", 30, 50000)\n",
        "\n",
        "\n",
        "initial_salary = manager.get_salary_info()\n",
        "\n",
        "\n",
        "for _ in range(10):\n",
        "    manager.manager_raise()\n",
        "\n",
        "\n",
        "salary_after_raise = manager.get_salary_info()\n",
        "\n",
        "result_tuple = (initial_salary, salary_after_raise)\n",
        "print(result_tuple)\n"
      ]
    }
  ],
  "metadata": {
    "colab": {
      "provenance": []
    },
    "kernelspec": {
      "display_name": "Python 3 (ipykernel)",
      "language": "python",
      "name": "python3"
    },
    "language_info": {
      "codemirror_mode": {
        "name": "ipython",
        "version": 3
      },
      "file_extension": ".py",
      "mimetype": "text/x-python",
      "name": "python",
      "nbconvert_exporter": "python",
      "pygments_lexer": "ipython3",
      "version": "3.11.7"
    }
  },
  "nbformat": 4,
  "nbformat_minor": 0
}